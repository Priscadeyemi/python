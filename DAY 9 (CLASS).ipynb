{
 "cells": [
  {
   "cell_type": "markdown",
   "id": "786657b8",
   "metadata": {},
   "source": [
    "## CLASS"
   ]
  },
  {
   "cell_type": "code",
   "execution_count": null,
   "id": "ada8407e",
   "metadata": {},
   "outputs": [],
   "source": [
    "## class(oop)\n",
    "## definition of class\n",
    "## object oriented programming enables the progrmmer to create their own objects with class methods and attributes.\n",
    "## in this way, the programmer can call methods on an object.\n",
    "## attributes are characteristics that can be called on an object."
   ]
  },
  {
   "cell_type": "code",
   "execution_count": 2,
   "id": "ad61f947",
   "metadata": {},
   "outputs": [],
   "source": [
    "class person:\n",
    "    attrl1=\"sam\"\n",
    "    attrl2=\"dark\"\n",
    "    attrl3=\"height\"\n",
    "person1=person()"
   ]
  },
  {
   "cell_type": "code",
   "execution_count": 3,
   "id": "0814106b",
   "metadata": {},
   "outputs": [
    {
     "data": {
      "text/plain": [
       "'sam'"
      ]
     },
     "execution_count": 3,
     "metadata": {},
     "output_type": "execute_result"
    }
   ],
   "source": [
    "person1.attrl1"
   ]
  },
  {
   "cell_type": "code",
   "execution_count": 4,
   "id": "e9cde1f1",
   "metadata": {},
   "outputs": [
    {
     "data": {
      "text/plain": [
       "'dark'"
      ]
     },
     "execution_count": 4,
     "metadata": {},
     "output_type": "execute_result"
    }
   ],
   "source": [
    "person1.attrl2"
   ]
  },
  {
   "cell_type": "code",
   "execution_count": 5,
   "id": "5005299b",
   "metadata": {},
   "outputs": [
    {
     "data": {
      "text/plain": [
       "'height'"
      ]
     },
     "execution_count": 5,
     "metadata": {},
     "output_type": "execute_result"
    }
   ],
   "source": [
    "person1.attrl3"
   ]
  },
  {
   "cell_type": "markdown",
   "id": "07782c88",
   "metadata": {},
   "source": [
    "## ADDING FUCTION TO CLASS (METHOD)"
   ]
  },
  {
   "cell_type": "code",
   "execution_count": 20,
   "id": "5956b386",
   "metadata": {},
   "outputs": [],
   "source": [
    "class person:\n",
    "    attrl1=\"sam\"\n",
    "    attrl2=\"fair\"\n",
    "    \n",
    "    def details(self):(## methods)\n",
    "        print(f\"\"\"name:{self.attrl1}\n",
    "              complexion:{self.attrl2}\"\"\")\n",
    "        \n",
    "    def action(self):\n",
    "        print(f'''my name is {self.attrl1} and i am {self.attrl2}''')\n",
    "person2=person()"
   ]
  },
  {
   "cell_type": "code",
   "execution_count": 17,
   "id": "8803e56d",
   "metadata": {},
   "outputs": [
    {
     "name": "stdout",
     "output_type": "stream",
     "text": [
      "name:sam\n",
      "              complexion:fair\n"
     ]
    }
   ],
   "source": [
    "person2.details()"
   ]
  },
  {
   "cell_type": "code",
   "execution_count": 18,
   "id": "77392bf2",
   "metadata": {},
   "outputs": [
    {
     "name": "stdout",
     "output_type": "stream",
     "text": [
      "my name is sam and i am fair\n"
     ]
    }
   ],
   "source": [
    "person2.action()"
   ]
  },
  {
   "cell_type": "code",
   "execution_count": 41,
   "id": "d8b78922",
   "metadata": {},
   "outputs": [],
   "source": [
    "class monieapp:\n",
    "    def __init__(self):\n",
    "        self.balance=0\n",
    "    def deposit(self):\n",
    "        amount=float(input(\"enter deposit amount:\"))\n",
    "        self.balance += amount\n",
    "        print(\"transaction successfully.....\")\n",
    "    def transfer (self):\n",
    "        amount= float(input(\"enter transfer amount:\"))\n",
    "        bankname=input(\"enter bank name:\")\n",
    "        acct_number=input(\"enter account number:\")\n",
    "        if amount > self.balance or amount == 0:\n",
    "            print(\"cannot complete transaction due to zero or insufficient funds\")\n",
    "        else:\n",
    "            self.balance -= amount\n",
    "            print(\"transaction successfully completed!!!\")     \n",
    "    def airtime(self):\n",
    "        amount=float(input(\"enter tansfer amount:\"))\n",
    "        provider=input(\"enter provider name:\")\n",
    "        phone_number=input(\"enter phone number:\")\n",
    "        if amount > self.balance or amount == 0:\n",
    "            print(\"cannot complete transaction due to zero or insufficient funds\")\n",
    "        else:\n",
    "                self.balance -= amount\n",
    "                print(\"AIRTIME successfully completed!!!\")\n",
    "                \n",
    "    def data(self):\n",
    "        amount=float(input(\"enter data amount:\"))\n",
    "        provider=input(\"enter provider name:\")\n",
    "        phone_number=input(\"enter phone number:\")\n",
    "        amount= float(input(\"enter transfer amount:\"))\n",
    "        if amount > self.balance or amount == 0:\n",
    "            print(\"cannot complete transaction due to zero or insufficient funds\")\n",
    "        else:\n",
    "                self.balance -= amount\n",
    "                print(\"DATA TRANSFER successfully completed!!!\")\n",
    "    def checkbalance(self):\n",
    "            print(f\" your AVAILABLE BALANCE IS {self.balance}\")      \n",
    "bankapp=monieapp()"
   ]
  },
  {
   "cell_type": "code",
   "execution_count": 37,
   "id": "eb305ad1",
   "metadata": {},
   "outputs": [
    {
     "name": "stdout",
     "output_type": "stream",
     "text": [
      "enter deposit amount:100000000\n",
      "transaction successfully.....\n"
     ]
    }
   ],
   "source": [
    "bankapp.deposit()"
   ]
  },
  {
   "cell_type": "code",
   "execution_count": 38,
   "id": "c126b15b",
   "metadata": {},
   "outputs": [
    {
     "name": "stdout",
     "output_type": "stream",
     "text": [
      "enter transfer amount:10000000\n",
      "enter bank name:GTB\n",
      "enter account number:00456382\n",
      "transaction successfully completed!!!\n"
     ]
    }
   ],
   "source": [
    "bankapp.transfer()"
   ]
  },
  {
   "cell_type": "code",
   "execution_count": 42,
   "id": "8fa20cc2",
   "metadata": {},
   "outputs": [
    {
     "name": "stdout",
     "output_type": "stream",
     "text": [
      "enter tansfer amount:20000\n",
      "enter provider name:mtn\n",
      "enter phone number:07031383690\n",
      "cannot complete transaction due to zero or insufficient funds\n"
     ]
    }
   ],
   "source": [
    "bankapp.airtime()"
   ]
  },
  {
   "cell_type": "code",
   "execution_count": 43,
   "id": "112a9c94",
   "metadata": {},
   "outputs": [
    {
     "name": "stdout",
     "output_type": "stream",
     "text": [
      "enter data amount:1000\n",
      "enter provider name:glo\n",
      "enter phone number:09056748378\n",
      "enter transfer amount:20000\n",
      "cannot complete transaction due to zero or insufficient funds\n"
     ]
    }
   ],
   "source": [
    "bankapp.data()"
   ]
  },
  {
   "cell_type": "code",
   "execution_count": 44,
   "id": "ae41edf3",
   "metadata": {},
   "outputs": [
    {
     "name": "stdout",
     "output_type": "stream",
     "text": [
      " your AVAILABLE BALANCE IS 0\n"
     ]
    }
   ],
   "source": [
    "bankapp.checkbalance()"
   ]
  },
  {
   "cell_type": "code",
   "execution_count": null,
   "id": "7d5cf667",
   "metadata": {},
   "outputs": [],
   "source": []
  }
 ],
 "metadata": {
  "kernelspec": {
   "display_name": "Python 3 (ipykernel)",
   "language": "python",
   "name": "python3"
  },
  "language_info": {
   "codemirror_mode": {
    "name": "ipython",
    "version": 3
   },
   "file_extension": ".py",
   "mimetype": "text/x-python",
   "name": "python",
   "nbconvert_exporter": "python",
   "pygments_lexer": "ipython3",
   "version": "3.11.5"
  }
 },
 "nbformat": 4,
 "nbformat_minor": 5
}
