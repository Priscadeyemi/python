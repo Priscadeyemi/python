{
 "cells": [
  {
   "cell_type": "code",
   "execution_count": 8,
   "id": "c3024a29",
   "metadata": {},
   "outputs": [
    {
     "name": "stdout",
     "output_type": "stream",
     "text": [
      "physics score:90\n",
      "maths score:80\n",
      "chemistry score:76\n",
      "biology score:68\n",
      "Economics score:64\n",
      "English:90\n",
      "your avg score is 78.0 and score point is A\n"
     ]
    }
   ],
   "source": [
    "## CONDITIONAL STATEMENTS\n",
    "## Program software that uses student subjects to look for the average of the score and give a score point\n",
    "grades1=float(input(\"physics score:\"))\n",
    "grades2=float(input(\"maths score:\"))\n",
    "grades3=float(input(\"chemistry score:\"))\n",
    "grades4=float(input(\"biology score:\"))\n",
    "grades5=float(input(\"Economics score:\"))\n",
    "grades6=float(input(\"English:\"))\n",
    "import statistics as stat\n",
    "avg=round(stat.mean([grades1,grades2,grades3,grades4,grades5,grades6]),2)\n",
    "if avg >= 70 and avg <=100:\n",
    "    print(f\"your avg score is {avg} and score point is A\")\n",
    "elif avg >= 60 and avg <=69.99:\n",
    "    print(f\"your avg score is {avg} and score point is B\")\n",
    "elif avg >= 50 and avg <=59.99:\n",
    "    print(f\"your avg score is {avg} and score point is C\")\n",
    "elif avg >= 40 and avg <=49.99:\n",
    "    print(f\"your avg score is {avg} and score point is D\")\n",
    "elif avg >= 30 and avg <=39.99:\n",
    "    print(f\"your avg score is {avg} and score point is E\")\n",
    "else:\n",
    "    print(f\"sorry you failed badly\")\n",
    "    \n"
   ]
  },
  {
   "cell_type": "markdown",
   "id": "4ef1c25f",
   "metadata": {},
   "source": [
    "## LOOPS"
   ]
  },
  {
   "cell_type": "code",
   "execution_count": null,
   "id": "21fa7d24",
   "metadata": {},
   "outputs": [],
   "source": [
    "## LOOPS IS THE ACT OF A PROGRAMMER TO REPEAT A PROGRAM OVER AGAIN USING LOOP\n",
    "## TWO TYPES OF LOOP\n",
    "## FOR LOOP\n",
    "## WHILE LOOP"
   ]
  },
  {
   "cell_type": "code",
   "execution_count": 9,
   "id": "fd7e314f",
   "metadata": {},
   "outputs": [
    {
     "name": "stdout",
     "output_type": "stream",
     "text": [
      "PPPPP\n",
      "yyyyy\n",
      "ttttt\n",
      "hhhhh\n",
      "ooooo\n",
      "nnnnn\n"
     ]
    }
   ],
   "source": [
    "## FOR LOOP\n",
    "word=\"Python\"\n",
    "for h in word:\n",
    "    print(h * 5)"
   ]
  },
  {
   "cell_type": "code",
   "execution_count": 10,
   "id": "a148d513",
   "metadata": {},
   "outputs": [
    {
     "name": "stdout",
     "output_type": "stream",
     "text": [
      "Enter the character:t\n",
      "ttt\n"
     ]
    }
   ],
   "source": [
    "## for loop(using conditional statement)\n",
    "word=\"python\"\n",
    "user=input(\"Enter the character:\")\n",
    "for char in word:\n",
    "    if user == char:\n",
    "        print(char * 3)"
   ]
  },
  {
   "cell_type": "code",
   "execution_count": 11,
   "id": "61fc7dc5",
   "metadata": {},
   "outputs": [
    {
     "name": "stdout",
     "output_type": "stream",
     "text": [
      "Enter the character:p\n",
      "character found\n"
     ]
    }
   ],
   "source": [
    "word=\"python\"\n",
    "user=input(\"Enter the character:\")\n",
    "for char in word:\n",
    "    if user == char:\n",
    "        print(\"character found\")\n",
    "        break\n",
    "    else:\n",
    "        print(\"character not found..\")"
   ]
  },
  {
   "cell_type": "code",
   "execution_count": null,
   "id": "2c0394c6",
   "metadata": {},
   "outputs": [
    {
     "name": "stdout",
     "output_type": "stream",
     "text": [
      "what is the square number you looking for:4\n",
      "the square root of 4 is 2.0\n",
      "enter your number:10\n",
      "the square root of 10 is 3.1622776601683795\n",
      "enter your number:10\n",
      "the square root of 10 is 3.1622776601683795\n"
     ]
    }
   ],
   "source": [
    "## WHILE LOOP\n",
    "counter=0\n",
    "num=int(input(\"what is the square number you looking for:\"))\n",
    "import math\n",
    "while num != 0:\n",
    "    print(f\"the square root of {num} is {math.sqrt(num)}\")\n",
    "    num= int(input(\"enter your number:\"))\n",
    "    counter += 1\n"
   ]
  },
  {
   "cell_type": "code",
   "execution_count": 13,
   "id": "e390248c",
   "metadata": {},
   "outputs": [
    {
     "name": "stdout",
     "output_type": "stream",
     "text": [
      "what is the number:2\n",
      "2 * 1 = 2\n",
      "2 * 2 = 4\n",
      "2 * 3 = 6\n",
      "2 * 4 = 8\n",
      "2 * 5 = 10\n",
      "2 * 6 = 12\n",
      "2 * 7 = 14\n",
      "2 * 8 = 16\n",
      "2 * 9 = 18\n",
      "2 * 10 = 20\n",
      "2 * 11 = 22\n",
      "2 * 12 = 24\n"
     ]
    }
   ],
   "source": [
    "## USING WHILE LOOP FOR MULTIPLICATION ABLE\n",
    "counter=1\n",
    "num= int(input(\"what is the number:\"))\n",
    "while counter <= 12:\n",
    "    print(f\"{num} * {counter} = {num * counter}\")\n",
    "    counter += 1"
   ]
  },
  {
   "cell_type": "code",
   "execution_count": 14,
   "id": "f359e399",
   "metadata": {},
   "outputs": [
    {
     "name": "stdout",
     "output_type": "stream",
     "text": [
      "10\n",
      "9\n",
      "8\n",
      "7\n",
      "6\n",
      "5\n",
      "4\n",
      "3\n",
      "2\n",
      "1\n",
      "Happy new year>>>\n"
     ]
    }
   ],
   "source": [
    "## COUNT DOWN USING WHILE LOOP\n",
    "counter = 10\n",
    "while counter > 0:\n",
    "    print(counter)\n",
    "    counter -= 1\n",
    "print(\"Happy new year>>>\")"
   ]
  },
  {
   "cell_type": "markdown",
   "id": "25e4e74e",
   "metadata": {},
   "source": [
    "## Assignment on loop"
   ]
  },
  {
   "cell_type": "code",
   "execution_count": 3,
   "id": "62508b98",
   "metadata": {},
   "outputs": [],
   "source": [
    "## RANDOMLY GENERATE A NUMBER AND WRITE A PROGRAM TO ASK A USER TO GUESS UNTIL IT IS CORRECT USE A CONDITION TO GIVE HINT\n",
    "\n",
    "## Note:\n",
    "\n",
    "## 1. Use  the while loop for the iteration.\n",
    "\n",
    "## 2. Import a module for the given problem."
   ]
  },
  {
   "cell_type": "code",
   "execution_count": 46,
   "id": "0ae70561",
   "metadata": {},
   "outputs": [
    {
     "name": "stdout",
     "output_type": "stream",
     "text": [
      "guess the correct number:12\n",
      "number is correctly guessed\n"
     ]
    }
   ],
   "source": [
    "## WHILE LOOP\n",
    "counter=0\n",
    "user=input(\"guess the correct number:\")\n",
    "import random\n",
    "while counter in range (0,15):\n",
    "    num=(random.randint(0,15))\n",
    "    if counter > 0:\n",
    "        print(\"number is correctly guessed\")\n",
    "    elif counter < 15:\n",
    "        print(\"number is correctly guessed\")\n",
    "        break\n",
    "    else:\n",
    "        print(\"number is wrongly guessed\")\n",
    "        print(f\" the user is {random.randint(user)}\")"
   ]
  },
  {
   "cell_type": "code",
   "execution_count": null,
   "id": "6bf098fd",
   "metadata": {},
   "outputs": [],
   "source": []
  }
 ],
 "metadata": {
  "kernelspec": {
   "display_name": "Python 3 (ipykernel)",
   "language": "python",
   "name": "python3"
  },
  "language_info": {
   "codemirror_mode": {
    "name": "ipython",
    "version": 3
   },
   "file_extension": ".py",
   "mimetype": "text/x-python",
   "name": "python",
   "nbconvert_exporter": "python",
   "pygments_lexer": "ipython3",
   "version": "3.11.5"
  }
 },
 "nbformat": 4,
 "nbformat_minor": 5
}
