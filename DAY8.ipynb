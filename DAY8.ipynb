{
 "cells": [
  {
   "cell_type": "code",
   "execution_count": null,
   "id": "4addcedc",
   "metadata": {},
   "outputs": [],
   "source": [
    "##E EXERCISE\n",
    "# using a function, write a program to calculate the total cost of a  customer\n",
    "## including discount and sales tax.\n",
    "## if customer purchase is above 500000, give discount\n",
    "## south south 15%\n",
    "## south east 10%\n",
    "## south west 8%\n",
    "## north east 12%\n",
    "#north west 11%\n",
    "##north central 6%\n",
    "# the vast is slated at 3.5%"
   ]
  },
  {
   "cell_type": "code",
   "execution_count": 17,
   "id": "d1bce9e5",
   "metadata": {},
   "outputs": [
    {
     "name": "stdout",
     "output_type": "stream",
     "text": [
      "enter customer purchase amount800000\n",
      "enter customer regionsouth west\n",
      "___________CUSTOMER RECEIPT________\n",
      "             \"purchaseamount\" :800000.0\n",
      "             \"Discount\" :640000.0\n",
      "             \"tax vax\" :280000.0\n",
      "             \"total amount including vat minus discount\":188000.0\n"
     ]
    }
   ],
   "source": [
    "def boardstore():\n",
    "    purchaseamount= float(input(\"enter customer purchase amount\"))\n",
    "    region= input(\"enter customer region\")\n",
    "    if purchaseamount >= 500000 and region == \"south south\":\n",
    "        print(f\"\"\"___________CUSTOMER RECEIPT________\n",
    "             \"purchaseamount\" :{purchaseamount}\n",
    "             \"Discount\" :{purchaseamount*0.15}\n",
    "             \"tax vax\" :{purchaseamount*0.35}\n",
    "             \"total amount including vat minus discount\":{purchaseamount + (purchaseamount * 0.035) - (purchaseamount * 0.15)}\"\"\")\n",
    "    elif purchaseamount >= 500000 and region == \"south east\":\n",
    "        print(f\"\"\"___________CUSTOMER RECEIPT________\n",
    "             \"purchaseamount\" :{purchaseamount}\n",
    "             \"Discount\" :{purchaseamount*0.10}\n",
    "             \"tax vax\" :{purchaseamount*0.35}\n",
    "             \"total amount including vat minus discount\":{purchaseamount + (purchaseamount * 0.035) - (purchaseamount * 0.10)}\"\"\")\n",
    "    elif purchaseamount >= 500000 and region == \"south west\":\n",
    "        print(f\"\"\"___________CUSTOMER RECEIPT________\n",
    "             \"purchaseamount\" :{purchaseamount}\n",
    "             \"Discount\" :{purchaseamount*0.8}\n",
    "             \"tax vax\" :{purchaseamount*0.35}\n",
    "             \"total amount including vat minus discount\":{purchaseamount + (purchaseamount * 0.035) - (purchaseamount * 0.8)}\"\"\")\n",
    "        \n",
    "    elif purchaseamount >= 500000 and region == \"south west\":\n",
    "        print(f\"\"\"___________CUSTOMER RECEIPT________\n",
    "             \"purchaseamount\" :{purchaseamount}\n",
    "             \"Discount\" :{purchaseamount*0.12}\n",
    "             \"tax vax\" :{purchaseamount*0.35}\n",
    "             \"total amount including vat minus discount\":{purchaseamount + (purchaseamount * 0.035) - (purchaseamount * 0.12)}\"\"\")\n",
    "        \n",
    "    elif purchaseamount >= 500000 and region == \"north west\":\n",
    "        print(f\"\"\"___________CUSTOMER RECEIPT________\n",
    "             \"purchaseamount\" :{purchaseamount}\n",
    "             \"Discount\" :{purchaseamount*0.11}\n",
    "             \"tax vax\" :{purhaseamount*0.35}\n",
    "             \"total amount including vat minus discount\":{purchaseamount + (purchaseamount * 0.035) - (purchaseamount * 0.11)}\"\"\")\n",
    "        \n",
    "    elif purchaseamount >= 500000 and region == \"north central\":\n",
    "        print(f\"\"\"___________CUSTOMER RECEIPT________\n",
    "             \"purchaseamount\" :{purchaseamount}\n",
    "             \"Discount\" :{purchaseamount*0.15}\n",
    "             \"tax vax\" :{purchaseamount*0.35}\n",
    "             \"total amount including vat minus discount\":{purchaseamount + (purchaseamount * 0.035) - (purchaseamount * 0.6)}\"\"\")\n",
    "    else:\n",
    "        print(f\"\"\"___________CUSTOMER RECEIPT________\n",
    "             \"purchaseamount\" :{purchaseamount}\n",
    "             \"tax vat\" :{purchaseamount*0.35}\n",
    "             \"total amount including vat minus discount\":{purchaseamount + (purchaseamount * 0.035)}\n",
    "             \"sorry you are not eligible for a discount!!!\"\n",
    "             \"\"\")\n",
    "boardstore()"
   ]
  },
  {
   "cell_type": "markdown",
   "id": "3317eefb",
   "metadata": {},
   "source": [
    "## lambda"
   ]
  },
  {
   "cell_type": "code",
   "execution_count": 5,
   "id": "7c965d7d",
   "metadata": {},
   "outputs": [
    {
     "data": {
      "text/plain": [
       "7"
      ]
     },
     "execution_count": 5,
     "metadata": {},
     "output_type": "execute_result"
    }
   ],
   "source": [
    "def add(x,y):\n",
    "    return x + y\n",
    "add(4,3)"
   ]
  },
  {
   "cell_type": "code",
   "execution_count": 7,
   "id": "9778744d",
   "metadata": {},
   "outputs": [
    {
     "data": {
      "text/plain": [
       "7"
      ]
     },
     "execution_count": 7,
     "metadata": {},
     "output_type": "execute_result"
    }
   ],
   "source": [
    "(lambda x,y: x+y)(4,3)"
   ]
  },
  {
   "cell_type": "code",
   "execution_count": 8,
   "id": "b16f5f37",
   "metadata": {},
   "outputs": [
    {
     "data": {
      "text/plain": [
       "54"
      ]
     },
     "execution_count": 8,
     "metadata": {},
     "output_type": "execute_result"
    }
   ],
   "source": [
    "(lambda x,y,z: x+y*z)(4,5,10)"
   ]
  },
  {
   "cell_type": "code",
   "execution_count": 10,
   "id": "d39df849",
   "metadata": {},
   "outputs": [
    {
     "name": "stdout",
     "output_type": "stream",
     "text": [
      "enter your correct password:Priscadeyemi\n"
     ]
    },
    {
     "data": {
      "text/plain": [
       "'Priscadeyemi is correct'"
      ]
     },
     "execution_count": 10,
     "metadata": {},
     "output_type": "execute_result"
    }
   ],
   "source": [
    "## write lambda function giving a user password to start with an upper case and len of 8\\\n",
    "(lambda password:F\"{password} is correct\" if password[0]==password[0].upper()and len(password) >= 8 else \"incorrect password requirement\") (input(\"enter your correct password:\"))"
   ]
  },
  {
   "cell_type": "markdown",
   "id": "0e2aee1b",
   "metadata": {},
   "source": [
    "# filter function"
   ]
  },
  {
   "cell_type": "code",
   "execution_count": 15,
   "id": "a7cf3679",
   "metadata": {},
   "outputs": [
    {
     "name": "stdout",
     "output_type": "stream",
     "text": [
      "[1, 5]\n"
     ]
    }
   ],
   "source": [
    "## filter function\n",
    "num2=[1,2,5,8,10]\n",
    "nlist=list(filter(lambda x: x % 2 != 0, num2))\n",
    "print(nlist)"
   ]
  },
  {
   "cell_type": "code",
   "execution_count": 16,
   "id": "89d4a948",
   "metadata": {},
   "outputs": [
    {
     "name": "stdout",
     "output_type": "stream",
     "text": [
      "[2, 8, 10]\n"
     ]
    }
   ],
   "source": [
    "## filter function\n",
    "num2=[1,2,5,8,10]\n",
    "nlist=list(filter(lambda x: x % 2 == 0, num2))\n",
    "print(nlist)"
   ]
  },
  {
   "cell_type": "markdown",
   "id": "f263d8c2",
   "metadata": {},
   "source": [
    "# map"
   ]
  },
  {
   "cell_type": "code",
   "execution_count": null,
   "id": "d9548254",
   "metadata": {},
   "outputs": [],
   "source": [
    "map\n",
    "numbers=[1,3,4,100,24,25]\n",
    "squared_roots=list(map(lambda x: x**2,numbers))\n",
    "print(squared_roots)"
   ]
  },
  {
   "cell_type": "markdown",
   "id": "c5dc6435",
   "metadata": {},
   "source": [
    "## ASSIGNMENT ON LAMBDA"
   ]
  },
  {
   "cell_type": "code",
   "execution_count": 1,
   "id": "be5a053d",
   "metadata": {},
   "outputs": [],
   "source": [
    "## Exercise\n",
    "\n",
    "## write a lambda if a user input is even or odd\n",
    "## (lambda usernumber:f\"{usernumber} is even\" if usernumber %2==0 else f\" {usernumber} is odd\")(int(input(\"What is your Number:\")))"
   ]
  },
  {
   "cell_type": "code",
   "execution_count": 10,
   "id": "ec3fafb8",
   "metadata": {},
   "outputs": [
    {
     "name": "stdout",
     "output_type": "stream",
     "text": [
      "[12, 24, 30, 2, 18]\n"
     ]
    }
   ],
   "source": [
    "num2=[7,12,23,24,30,3,2,18]\n",
    "nlist=list(filter(lambda x: x % 2 == 0, num2))\n",
    "print(nlist)"
   ]
  },
  {
   "cell_type": "code",
   "execution_count": 13,
   "id": "c81f7a33",
   "metadata": {},
   "outputs": [
    {
     "name": "stdout",
     "output_type": "stream",
     "text": [
      "[7, 23, 3]\n"
     ]
    }
   ],
   "source": [
    "num2=[7,12,23,24,30,3,2,18]\n",
    "nlist=list(filter(lambda x: x % 2 != 0, num2))\n",
    "print(nlist)"
   ]
  },
  {
   "cell_type": "code",
   "execution_count": 30,
   "id": "1ead08e7",
   "metadata": {},
   "outputs": [
    {
     "name": "stdout",
     "output_type": "stream",
     "text": [
      "what is your number:23\n"
     ]
    },
    {
     "data": {
      "text/plain": [
       "'23 is odd'"
      ]
     },
     "execution_count": 30,
     "metadata": {},
     "output_type": "execute_result"
    }
   ],
   "source": [
    "(lambda usernumber:f\"{usernumber} is even\" if usernumber % 2==0 else f\"{usernumber} is odd\")(int(input(\"what is your number:\")))"
   ]
  },
  {
   "cell_type": "markdown",
   "id": "c076eb33",
   "metadata": {},
   "source": [
    "## ASSIGNMENT "
   ]
  },
  {
   "cell_type": "code",
   "execution_count": 2,
   "id": "eb747bf3",
   "metadata": {},
   "outputs": [],
   "source": [
    "## Lambda Assignment\n",
    "## 1. Write a lambda function that squares a given number.\n",
    "## 2. Filter a list of strings to include only those that have more than 5 characters.\n",
    "## 3. Given a list of temperatures in Celsius, use map to convert them to Fahrenheit using the formula: F - 9/5c + 32."
   ]
  },
  {
   "cell_type": "code",
   "execution_count": 7,
   "id": "4d4e7e00",
   "metadata": {},
   "outputs": [
    {
     "name": "stdout",
     "output_type": "stream",
     "text": [
      "[9, 49, 16, 81, 1521, 100, 2025, 10000]\n"
     ]
    }
   ],
   "source": [
    "## Map\n",
    "numbers=[3,7,4,9,39,10,45,100]\n",
    "square_root=list(map(lambda x: x**2,numbers))\n",
    "print(square_root)"
   ]
  },
  {
   "cell_type": "code",
   "execution_count": 90,
   "id": "d3e4c3ae",
   "metadata": {},
   "outputs": [
    {
     "name": "stdout",
     "output_type": "stream",
     "text": [
      "['formula', 'bicycle ', 'pencil']\n"
     ]
    }
   ],
   "source": [
    "## filter strings\n",
    "list_of_strings=[\"formula\",\"root\",\"bicycle \",\"note\",\"color\",\"pencil\",\"pen\",\"cup\"]\n",
    "filtered_strings=[strings for strings in list_of_strings if len(strings)>5]\n",
    "print(filtered_strings)"
   ]
  },
  {
   "cell_type": "code",
   "execution_count": 65,
   "id": "575eec6a",
   "metadata": {},
   "outputs": [],
   "source": [
    "## 3. Given a list of temperatures in Celsius, use map to convert them to Fahrenheit using the formula: F - 9/5c + 32."
   ]
  },
  {
   "cell_type": "code",
   "execution_count": 69,
   "id": "22d0c2b6",
   "metadata": {},
   "outputs": [
    {
     "name": "stdout",
     "output_type": "stream",
     "text": [
      "[86.0, 68.0, 122.0, 158.0, 104.0]\n"
     ]
    }
   ],
   "source": [
    "## map\n",
    "celsius_temperature=[30, 20,50,70,40]\n",
    "def celsius_fahrenheit(celsius):\n",
    "    return 9/5 * celsius + 32\n",
    "fahrenheit_temperature=list(map(celsius_fahrenheit, celsius_temperature))\n",
    "print(fahrenheit_temperature)\n"
   ]
  },
  {
   "cell_type": "code",
   "execution_count": null,
   "id": "e6d130df",
   "metadata": {},
   "outputs": [],
   "source": []
  }
 ],
 "metadata": {
  "kernelspec": {
   "display_name": "Python 3 (ipykernel)",
   "language": "python",
   "name": "python3"
  },
  "language_info": {
   "codemirror_mode": {
    "name": "ipython",
    "version": 3
   },
   "file_extension": ".py",
   "mimetype": "text/x-python",
   "name": "python",
   "nbconvert_exporter": "python",
   "pygments_lexer": "ipython3",
   "version": "3.11.5"
  }
 },
 "nbformat": 4,
 "nbformat_minor": 5
}
