{
 "cells": [
  {
   "cell_type": "code",
   "execution_count": null,
   "id": "a4de0d63",
   "metadata": {},
   "outputs": [],
   "source": [
    "## Exercise\n",
    "## write  program to the following to display patient record, calculate their checking fee based on the continent, check their \n",
    "## body mass index note read understand the question to know what attributes are needed"
   ]
  },
  {
   "cell_type": "code",
   "execution_count": 9,
   "id": "cddc1a13",
   "metadata": {},
   "outputs": [],
   "source": [
    "class patientrecord:\n",
    "    def __init__(self,name,age,height,weight,complexion,gender):\n",
    "        self.name=name\n",
    "        self.age=age\n",
    "        self.gender=gender\n",
    "        self.height=height\n",
    "        self.weight=weight\n",
    "        self.complexion=complexion\n",
    "    \n",
    "    def display(self):\n",
    "        print(f\"\"\"_____PATIENT RECORD_____\n",
    "        \"name\":{self.name} \n",
    "        \"age\":{self.age}\n",
    "        \"gender\":{self.gender}\n",
    "        \"height\":{self.height}\n",
    "        \"weight\":{self.weight}\n",
    "        \"complexion\":{self.complexion}\n",
    "        \"\"\")\n",
    "        \n",
    "    def continentfee(self):\n",
    "        option=input(\"what country are you from,[nigeria,canada,sweden, france]\")\n",
    "        if option == \"nigeria\":\n",
    "            print(\"your checking fee is $40\")\n",
    "        elif option == \"canada\":\n",
    "            print(\"your checking fee is $50\")\n",
    "        elif option == \"sweden\":\n",
    "            print(\"your checking fee is $70\")  \n",
    "        elif option == \"france\":\n",
    "            print(\"your checking fee is $60\")\n",
    "            \n",
    "    def BMI(self):\n",
    "        weight=float(input(\"what is your current weight in kg:\"))\n",
    "        height=float(input(\"what is your current height in  meters:\"))\n",
    "        bmi_calculator= weight/height**2\n",
    "        if bmi_calculator < 16:\n",
    "            print(\"severe thinness, see the doctor\")\n",
    "        elif bmi_calculator >= 18.5 and bmi_calculator < 25:\n",
    "            print(\"healthy weight keep it up\")\n",
    "        elif bmi_calculator >= 25 and bmi_calculator  <=30:\n",
    "            print(\"you are overweight see the doctor\")\n",
    "        elif bmi_calculator >= 30 and bmi_calculator <=40:\n",
    "            print(\"you are obesse.... see your doctor as soon as possible.\")\n",
    "hospital=patientrecord(\"Daniel\",45,\"male\",10.0,9,\"fair\")"
   ]
  },
  {
   "cell_type": "code",
   "execution_count": 10,
   "id": "6679aa14",
   "metadata": {},
   "outputs": [
    {
     "name": "stdout",
     "output_type": "stream",
     "text": [
      "_____PATIENT RECORD_____\n",
      "        \"name\":Daniel \n",
      "        \"age\":45\n",
      "        \"gender\":fair\n",
      "        \"height\":male\n",
      "        \"weight\":10.0\n",
      "        \"complexion\":9\n",
      "        \n"
     ]
    }
   ],
   "source": [
    "hospital.display()"
   ]
  },
  {
   "cell_type": "code",
   "execution_count": 5,
   "id": "0e864c81",
   "metadata": {},
   "outputs": [
    {
     "name": "stdout",
     "output_type": "stream",
     "text": [
      "what country are you from,[nigeria,canada,sweden, france]nigeria\n",
      "your checking fee is $40\n"
     ]
    }
   ],
   "source": [
    "hospital.continentfee()"
   ]
  },
  {
   "cell_type": "code",
   "execution_count": 14,
   "id": "cf0177b1",
   "metadata": {},
   "outputs": [
    {
     "name": "stdout",
     "output_type": "stream",
     "text": [
      "what is your current weight in kg:56\n",
      "what is your current height in  meters:9.0\n",
      "severe thinness, see the doctor\n"
     ]
    }
   ],
   "source": [
    "hospital.BMI()"
   ]
  },
  {
   "cell_type": "markdown",
   "id": "a12ab4e4",
   "metadata": {},
   "source": [
    "## ERROR HANDLING"
   ]
  },
  {
   "cell_type": "code",
   "execution_count": null,
   "id": "94ab872e",
   "metadata": {},
   "outputs": [],
   "source": []
  },
  {
   "cell_type": "code",
   "execution_count": 15,
   "id": "8ea790dc",
   "metadata": {},
   "outputs": [
    {
     "name": "stdout",
     "output_type": "stream",
     "text": [
      "what is the number26\n",
      "what is the number35\n",
      "26\n",
      "35\n"
     ]
    }
   ],
   "source": [
    "try:\n",
    "    num1=int(input(\"what is the number\"))\n",
    "    num2=int(input(\"what is the number\"))\n",
    "except:\n",
    "    print(\"incorrect input, input the right value\")\n",
    "else:\n",
    "    print(num1)\n",
    "    print(num2)"
   ]
  },
  {
   "cell_type": "code",
   "execution_count": 3,
   "id": "412187ff",
   "metadata": {},
   "outputs": [
    {
     "name": "stdout",
     "output_type": "stream",
     "text": [
      "what is the number5\n",
      "what is the number6\n",
      "choose your operators[+,*,-,/]*\n",
      "5 * 6 = 30\n"
     ]
    }
   ],
   "source": [
    "try:\n",
    "    num1=int(input(\"what is the number\"))\n",
    "    num2=int(input(\"what is the number\"))\n",
    "    operation=input(\"choose your operators[+,*,-,/]\")\n",
    "    if operation == \"+\":\n",
    "        print(f\"{num1} + {num2} = {num1 + num2}\")\n",
    "    elif operation == \"*\":\n",
    "        print(f\"{num1} * {num2} = {num1 * num2}\")\n",
    "except valueerror:\n",
    "    print(\"wrong value, tyr entering another value \")\n",
    "except zerodivisionerror:\n",
    "    print(\"wrong input, zero can not be divided\")\n",
    "except:\n",
    "    print(\"encountered two or more errors\")\n",
    "finally:\n",
    "    print(\"process complete....\")"
   ]
  },
  {
   "cell_type": "code",
   "execution_count": 7,
   "id": "8667c0b1",
   "metadata": {},
   "outputs": [
    {
     "name": "stdout",
     "output_type": "stream",
     "text": [
      "what is the number50\n",
      "what is the number20\n",
      "choose your operators[+,*,-,/]-\n",
      "50 - 20 = 30\n"
     ]
    }
   ],
   "source": [
    "try:\n",
    "    num1=int(input(\"what is the number\"))\n",
    "    num2=int(input(\"what is the number\"))\n",
    "    operation=input(\"choose your operators[+,*,-,/]\")\n",
    "    if operation == \"-\":\n",
    "        print(f\"{num1} - {num2} = {num1 - num2}\")\n",
    "    elif operation == \"/\":\n",
    "        print(f\"{num1} / {num2} = {num1 / num2}\")\n",
    "except valueerror:\n",
    "    print(\"wrong value, tyr entering another value \")\n",
    "except zerodivisionerror:\n",
    "    print(\"wrong input, zero can not be divided\")\n",
    "except:\n",
    "    print(\"encountered two or more errors\")\n",
    "finally:\n",
    "    print(\"process complete....\")"
   ]
  },
  {
   "cell_type": "markdown",
   "id": "db481e5f",
   "metadata": {},
   "source": [
    "## ASSIGNMENT"
   ]
  },
  {
   "cell_type": "code",
   "execution_count": null,
   "id": "e46cbcbc",
   "metadata": {},
   "outputs": [],
   "source": [
    "## Understanding the Code:\n",
    "## Explain the purpose of the patient record class and the information it stores for each patient.\n",
    "## Describe the functionality of the start, continent price, and body mass index methods.\n",
    "## Provide an example of creating a patient record object and calling both the body mass index and \n",
    "## continent price methods with user inputs.\n",
    "\n",
    "## Error Handling:\n",
    "## Identify potential points in the code where errors might occur due to user input or other factors.\n",
    "## Implement error-handling mechanisms to address common issues like invalid inputs for height, weight, or country options.\n",
    "## Provide modified code with error handling to ensure a smoother user experience and prevent program crashes."
   ]
  },
  {
   "cell_type": "code",
   "execution_count": 4,
   "id": "fe9d080c",
   "metadata": {},
   "outputs": [],
   "source": [
    "# The patient record class typically stores information related to a patient's health, medical history,\n",
    "# and personal details. It might include attributes such as name, age, gender, height, weight, medical conditions,\n",
    "# medications, allergies, etc.\n",
    "\n",
    "# functionalities of the start, continent price and BMI methods are as follows:\n",
    "\n",
    "# 1. *start Method:* This method likely initiates or sets up the patient record by initializing its attributes or preparing \n",
    "# it for data entry. It could involve prompting for initial information or performing any necessary setup tasks.\n",
    "\n",
    "# 2. *continent_price Method:* This method could potentially calculate some value related to the patient's continent\n",
    "# of residence or origin. It might not directly relate to health metrics but could be used for demographic analysis or \n",
    "# insurance-related calculations, for instance.\n",
    "\n",
    "# 3. *body_mass_index Method:* This method calculates the Body Mass Index (BMI) of the patient based on their height and \n",
    "# weight. BMI is a metric used to estimate a person's body fat based on their weight and height.\n",
    "\n",
    "# An example of creating a patient record object and calling both the body mass index and continent price methods with \n",
    "#user inputs might look like this in Python:\n",
    "\n",
    "class PatientRecord:\n",
    "    def __init__(self, name, age, height, weight,complexion,gender):\n",
    "        self.name = name\n",
    "        self.age = age\n",
    "        self.height = height\n",
    "        self.weight = weight\n",
    "        self.complexion=complexion\n",
    "        self.gender =gender\n",
    "\n",
    "    def start(self): \n",
    "        print(f\"\"\"____PATIENT RECORD____\n",
    "        \"name\":{self.name}\n",
    "        \"age\":{self.age}\n",
    "        \"height\":{self.height}\n",
    "        \"weight\":{self.weight}\n",
    "        \"complexion\":{self.complexion}\n",
    "        \"gender\":{self.gender}\n",
    "        \"\"\")\n",
    "\n",
    "    def continent_price(self):\n",
    "        try:\n",
    "            option=input(\"what continent are you from,[asia, north america, africa,europe,south america]\")\n",
    "            if option == \"asia\":\n",
    "                print(\"your continent price is $100\") \n",
    "            elif option == \"north america\":\n",
    "                print(\"your continent price is $80\")\n",
    "            elif option == \"africa\":\n",
    "                print(\"your continent price is $70\")\n",
    "            elif option == \"europe\":\n",
    "                print(\"your continent price is $150\")\n",
    "            elif option == \"south america\":\n",
    "                print(\"your continent price is $200\")\n",
    "                \n",
    "        except:\n",
    "            print(\"incorrect continent\")\n",
    "     \n",
    "    def BMI(self):\n",
    "        try:\n",
    "            weight=float(input(\"what is your current weight in kg:\"))\n",
    "            height=float(input(\"what is your current height in  meters:\"))\n",
    "            bmi_calculator= weight/height**2\n",
    "            if bmi_calculator < 16:\n",
    "                print(\"severe thinness, see the doctor\")\n",
    "            elif bmi_calculator >= 18.5 and bmi_calculator < 25:\n",
    "                print(\"healthy weight keep it up\")\n",
    "            elif bmi_calculator >= 25 and bmi_calculator  <=30:\n",
    "                print(\"you are overweight see the doctor\")\n",
    "            elif bmi_calculator >= 30 and bmi_calculator <=40:\n",
    "                print(\"you are obesse.... see your doctor as soon as possible.\")\n",
    "        except:\n",
    "            print(\"invalid input, insert correct value\")\n",
    "medical=PatientRecord(\"maryann\",23,9.0,55.2345,\"fair\",\"female\")"
   ]
  },
  {
   "cell_type": "code",
   "execution_count": 5,
   "id": "558a074c",
   "metadata": {},
   "outputs": [
    {
     "name": "stdout",
     "output_type": "stream",
     "text": [
      "____PATIENT RECORD____\n",
      "        \"name\":maryann\n",
      "        \"age\":23\n",
      "        \"height\":9.0\n",
      "        \"weight\":55.2345\n",
      "        \"complexion\":fair\n",
      "        \"gender\":female\n",
      "        \n"
     ]
    }
   ],
   "source": [
    "medical.start()"
   ]
  },
  {
   "cell_type": "code",
   "execution_count": 13,
   "id": "1e30b5df",
   "metadata": {},
   "outputs": [
    {
     "name": "stdout",
     "output_type": "stream",
     "text": [
      "what continent are you from,[asia, north america, africa,europe,south america]south america\n",
      "your continent price is $200\n"
     ]
    }
   ],
   "source": [
    "medical.continent_price()"
   ]
  },
  {
   "cell_type": "code",
   "execution_count": 10,
   "id": "7dc459da",
   "metadata": {},
   "outputs": [
    {
     "name": "stdout",
     "output_type": "stream",
     "text": [
      "what is your current weight in kg:56\n",
      "what is your current height in  meters:5.4\n",
      "severe thinness, see the doctor\n"
     ]
    }
   ],
   "source": [
    "medical.BMI()"
   ]
  }
 ],
 "metadata": {
  "kernelspec": {
   "display_name": "Python 3 (ipykernel)",
   "language": "python",
   "name": "python3"
  },
  "language_info": {
   "codemirror_mode": {
    "name": "ipython",
    "version": 3
   },
   "file_extension": ".py",
   "mimetype": "text/x-python",
   "name": "python",
   "nbconvert_exporter": "python",
   "pygments_lexer": "ipython3",
   "version": "3.11.5"
  }
 },
 "nbformat": 4,
 "nbformat_minor": 5
}
