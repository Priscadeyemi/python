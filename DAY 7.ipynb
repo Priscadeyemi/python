{
 "cells": [
  {
   "cell_type": "code",
   "execution_count": 2,
   "id": "a6f2f1f0",
   "metadata": {},
   "outputs": [
    {
     "name": "stdout",
     "output_type": "stream",
     "text": [
      "1\n",
      "2\n",
      "3\n",
      "4\n",
      "5\n",
      "6\n",
      "7\n",
      "8\n",
      "9\n",
      "10\n",
      "11\n",
      "12\n",
      "13\n",
      "14\n",
      "15\n",
      "16\n",
      "17\n",
      "18\n",
      "19\n",
      "20\n",
      "21\n",
      "22\n",
      "23\n",
      "24\n",
      "25\n",
      "26\n",
      "27\n",
      "28\n",
      "29\n",
      "30\n"
     ]
    }
   ],
   "source": [
    "## RANGES USING FOR LOOP\n",
    "for h in range (1,31):\n",
    "    print(h)"
   ]
  },
  {
   "cell_type": "code",
   "execution_count": 10,
   "id": "d5d9fa0c",
   "metadata": {},
   "outputs": [
    {
     "name": "stdout",
     "output_type": "stream",
     "text": [
      "player two wins\n",
      "player two score is:10\n",
      "player one score is:5\n",
      "player two wins\n",
      "player two score is:7\n",
      "player one score is:6\n",
      "player two wins\n",
      "player two score is:8\n",
      "player one score is:4\n",
      "player one wins\n",
      "player one score is:7\n",
      "player two score is:6\n",
      "player two wins\n",
      "player two score is:8\n",
      "player one score is:5\n",
      "player one wins\n",
      "player one score is:6\n",
      "player two score is:5\n",
      "player two wins\n",
      "player two score is:7\n",
      "player one score is:4\n",
      "player two wins\n",
      "player two score is:9\n",
      "player one score is:3\n",
      "player one wins\n",
      "player one score is:8\n",
      "player two score is:7\n",
      "player one wins\n",
      "player one score is:11\n",
      "player two score is:6\n",
      "PLAYER TWO IS THE OVERALL WINNER BY 30 point\n"
     ]
    }
   ],
   "source": [
    "# Dice random selection using for loop and range.\n",
    "score1= 0\n",
    "score2= 0\n",
    "import random\n",
    "for i in range (1,11):\n",
    "    dice1=(random.randint(1,6) + random.randint(1,6))\n",
    "    dice2=(random.randint(1,6) + random.randint(1,6))\n",
    "    \n",
    "    if dice1 > dice2:\n",
    "        score1 += 5\n",
    "        print(\"player one wins\")\n",
    "        print(f\"player one score is:{dice1}\")\n",
    "        print(f\"player two score is:{dice2}\")\n",
    "        \n",
    "    elif dice2 > dice1:\n",
    "        score2 += 5\n",
    "        print(\"player two wins\")\n",
    "        print(f\"player two score is:{dice2}\")\n",
    "        print(f\"player one score is:{dice1}\")\n",
    "        \n",
    "    elif dice1 == dice2:\n",
    "        score2 += 1\n",
    "        score1 += 1\n",
    "        print(\"draw\")\n",
    "        print(f\"player two score is:{dice2}\")\n",
    "        print(f\"player one score is:{dice1}\")\n",
    "if score1 > score2:\n",
    "    print(f\"PLAYER ONE IS THE OVERALL WINNER BY {score1} point\")\n",
    "elif score2 > score1:\n",
    "    print(f\"PLAYER TWO IS THE OVERALL WINNER BY {score2} point\")\n",
    "elif score2 == score1:\n",
    "    print(f\"DRAW ONE IS{score1},PLAYER TWO SCORE IS {score2} point\")\n",
    "    "
   ]
  },
  {
   "cell_type": "markdown",
   "id": "69f8202e",
   "metadata": {},
   "source": [
    "## FUNCTIONS"
   ]
  },
  {
   "cell_type": "code",
   "execution_count": 14,
   "id": "83cbb541",
   "metadata": {},
   "outputs": [
    {
     "name": "stdout",
     "output_type": "stream",
     "text": [
      "welcome to python class\n"
     ]
    }
   ],
   "source": [
    "def greet():\n",
    "    print(\"welcome to python class\")\n",
    "greet()"
   ]
  },
  {
   "cell_type": "code",
   "execution_count": 15,
   "id": "5d406147",
   "metadata": {},
   "outputs": [
    {
     "name": "stdout",
     "output_type": "stream",
     "text": [
      "welcome to python class Mr Hamza\n"
     ]
    }
   ],
   "source": [
    "def greet2(name):\n",
    "    print(f\"welcome to python class {name}\")\n",
    "greet2(\"Mr Hamza\")"
   ]
  },
  {
   "cell_type": "code",
   "execution_count": 18,
   "id": "ffe9e1d8",
   "metadata": {},
   "outputs": [
    {
     "name": "stdout",
     "output_type": "stream",
     "text": [
      "_________________CITIZEN DETAILS______________\n",
      "    \"name\": James\n",
      "    \"gender\": male\n",
      "    \"age\": 21\n",
      "    \n",
      "you are eligible to vote\n"
     ]
    }
   ],
   "source": [
    "def vote(name, age, gender):\n",
    "    print(f\"\"\"_________________CITIZEN DETAILS______________\n",
    "    \"name\": {name}\n",
    "    \"gender\": {gender}\n",
    "    \"age\": {age}\n",
    "    \"\"\")\n",
    "    if age > 18:\n",
    "        print(\"you are eligible to vote\")\n",
    "    elif age > 16:\n",
    "        print(\"you are eligible to vote primary section\")\n",
    "    else:\n",
    "         print(\"you are not eligible to vote in any section...\")\n",
    "vote(\"James\", 21,\"male\")\n",
    "    \n",
    "    "
   ]
  },
  {
   "cell_type": "code",
   "execution_count": 19,
   "id": "8583e0b9",
   "metadata": {},
   "outputs": [
    {
     "name": "stdout",
     "output_type": "stream",
     "text": [
      "_________________CITIZEN DETAILS______________\n",
      "    \"name\": James\n",
      "    \"gender\": male\n",
      "    \"age\": 21\n",
      "    \n",
      "you are eligible to vote\n"
     ]
    }
   ],
   "source": [
    "def vote(name, gender, age=18,):## default parameters\n",
    "    print(f\"\"\"_________________CITIZEN DETAILS______________\n",
    "    \"name\": {name}\n",
    "    \"gender\": {gender}\n",
    "    \"age\": {age}\n",
    "    \"\"\")\n",
    "    if age > 18:\n",
    "        print(\"you are eligible to vote\")\n",
    "    else:\n",
    "         print(\"you are not eligible to vote in any section...\")\n",
    "vote(\"James\",\"male\",21,)\n",
    "    "
   ]
  },
  {
   "cell_type": "code",
   "execution_count": 27,
   "id": "7951bc66",
   "metadata": {},
   "outputs": [
    {
     "name": "stdout",
     "output_type": "stream",
     "text": [
      "math scsore:98\n",
      "physics score:67\n",
      "geography score:73\n",
      "c.r.k score:88\n",
      "biology score:65\n",
      "agric score:89\n",
      "health education score:72\n",
      "f.maths score:78\n",
      "your avg score is 78.75 and score point is A\n"
     ]
    }
   ],
   "source": [
    "## EXERCISE\n",
    "## Write a python program that takes input from a student for score in 8 subjects\n",
    "## (maths,physics,geography,c.r.k, biology, agric,health education and f.maths)\n",
    "##and calculate their average score. the program should then determine and print\n",
    "##the corresponding grade based on the average score.\n",
    "\n",
    "def subjects(maths,physics,geography,crk,biology,agric,health_education,f_math):\n",
    "    grades1=float(input(\"math scsore:\"))\n",
    "    grades2=float(input(\"physics score:\"))\n",
    "    grades3=float(input(\"geography score:\"))\n",
    "    grades4=float(input(\"c.r.k score:\"))\n",
    "    grades5=float(input(\"biology score:\"))\n",
    "    grades6=float(input(\"agric score:\"))\n",
    "    grades7=float(input(\"health education score:\"))\n",
    "    grades8=float(input(\"f.maths score:\"))\n",
    "    import statistics as stat\n",
    "    avg=round(stat.mean([grades1,grades2,grades3,grades4,grades5,grades6,grades7,grades8]),2)\n",
    "    if avg >= 70 and avg <=100:\n",
    "        print(f\"your avg score is {avg} and score point is A\")\n",
    "    elif avg >= 60 and avg <=69.99:\n",
    "        print(f\"your avg score is {avg} and score point is B\")\n",
    "    elif avg >= 50 and avg <=59.99:\n",
    "        print(f\"your avg score is {avg} and score point is C\")\n",
    "    elif avg >= 40 and avg <=49.99:\n",
    "        print(f\"your avg score is {avg} and score point is D\")\n",
    "    elif avg >= 30 and avg <=39.99:\n",
    "        print(f\"your avg score is {avg} and score point is E\")\n",
    "    else:\n",
    "        print(f\"sorry you failed badly\")\n",
    "subjects(\"maths\",\"physics\",\"geography\",\"c.r.k\",\"biology\", \"agric\",\"health education\",\"f.math\") "
   ]
  },
  {
   "cell_type": "code",
   "execution_count": null,
   "id": "f788fd34",
   "metadata": {},
   "outputs": [],
   "source": []
  }
 ],
 "metadata": {
  "kernelspec": {
   "display_name": "Python 3 (ipykernel)",
   "language": "python",
   "name": "python3"
  },
  "language_info": {
   "codemirror_mode": {
    "name": "ipython",
    "version": 3
   },
   "file_extension": ".py",
   "mimetype": "text/x-python",
   "name": "python",
   "nbconvert_exporter": "python",
   "pygments_lexer": "ipython3",
   "version": "3.11.5"
  }
 },
 "nbformat": 4,
 "nbformat_minor": 5
}
