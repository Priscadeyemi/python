{
 "cells": [
  {
   "cell_type": "code",
   "execution_count": null,
   "id": "ae1b9ca8",
   "metadata": {},
   "outputs": [],
   "source": [
    "## iterable objects are used to loop over element one by one\n",
    "## Turple\n",
    "## list\n",
    "## dictionary"
   ]
  },
  {
   "cell_type": "markdown",
   "id": "79cf9f46",
   "metadata": {},
   "source": [
    "## Turple\n",
    "## Turple is unchangeable\n",
    "## Turple the bracket to identify turple()\n",
    "## turple use index location to access each element"
   ]
  },
  {
   "cell_type": "code",
   "execution_count": 1,
   "id": "5579492a",
   "metadata": {},
   "outputs": [
    {
     "name": "stdout",
     "output_type": "stream",
     "text": [
      "45\n",
      "<class 'tuple'>\n",
      "9\n"
     ]
    }
   ],
   "source": [
    "numbers=(10,24,25,3,45,40,50,60,\"prisca\")\n",
    "print(numbers[4])\n",
    "print(type(numbers))\n",
    "print(len(numbers))"
   ]
  },
  {
   "cell_type": "code",
   "execution_count": 2,
   "id": "4a10a789",
   "metadata": {},
   "outputs": [
    {
     "name": "stdout",
     "output_type": "stream",
     "text": [
      "50\n"
     ]
    }
   ],
   "source": [
    "## forward index\n",
    "print(numbers[6]) ## this is retrieving element using forward index location"
   ]
  },
  {
   "cell_type": "code",
   "execution_count": 3,
   "id": "91874a86",
   "metadata": {},
   "outputs": [
    {
     "name": "stdout",
     "output_type": "stream",
     "text": [
      "10\n"
     ]
    }
   ],
   "source": [
    "## backward index\n",
    "print(numbers[-9]) ## this is retrieving element using backward index location"
   ]
  },
  {
   "cell_type": "code",
   "execution_count": 4,
   "id": "1f2ce49b",
   "metadata": {},
   "outputs": [
    {
     "name": "stdout",
     "output_type": "stream",
     "text": [
      "(24, 25, 3, 45, 40, 50, 60, 'prisca')\n"
     ]
    }
   ],
   "source": [
    "## range\n",
    "print(numbers[1:10])## this is retrieving element using forward range index location"
   ]
  },
  {
   "cell_type": "code",
   "execution_count": 7,
   "id": "78660bdf",
   "metadata": {},
   "outputs": [
    {
     "name": "stdout",
     "output_type": "stream",
     "text": [
      "(24, 25, 3, 45, 40, 50, 60)\n"
     ]
    }
   ],
   "source": [
    "## forward and backward range\n",
    "print(numbers[1:-1])"
   ]
  },
  {
   "cell_type": "code",
   "execution_count": 8,
   "id": "76988734",
   "metadata": {},
   "outputs": [
    {
     "name": "stdout",
     "output_type": "stream",
     "text": [
      "(24, 25, 3, 45, 40, 50, 60, 'prisca')\n"
     ]
    }
   ],
   "source": [
    "## forward range\n",
    "print(numbers[1::]) ## retrieving element in an ascending order"
   ]
  },
  {
   "cell_type": "code",
   "execution_count": 10,
   "id": "b246e0d9",
   "metadata": {},
   "outputs": [
    {
     "name": "stdout",
     "output_type": "stream",
     "text": [
      "('prisca', 60, 50, 40, 45, 3, 25, 24, 10)\n"
     ]
    }
   ],
   "source": [
    "## reverse\n",
    "print(numbers[::-1])## retrieving element in descending order"
   ]
  },
  {
   "cell_type": "markdown",
   "id": "98fa086a",
   "metadata": {},
   "source": [
    "## list\n",
    "## list changeable\n",
    "## list the square bracket to identify a list []\n",
    "# list use index location to access each element"
   ]
  },
  {
   "cell_type": "code",
   "execution_count": 10,
   "id": "95b90f84",
   "metadata": {},
   "outputs": [
    {
     "name": "stdout",
     "output_type": "stream",
     "text": [
      "['strawberry', 'orange', 'pineapple', 'watermelom', 45]\n",
      "<class 'list'>\n"
     ]
    }
   ],
   "source": [
    "fruits=[\"strawberry\",\"orange\",\"pineapple\",\"watermelom\", 45]\n",
    "print(fruits)\n",
    "print(type(fruits))"
   ]
  },
  {
   "cell_type": "code",
   "execution_count": 11,
   "id": "794cda4e",
   "metadata": {},
   "outputs": [
    {
     "name": "stdout",
     "output_type": "stream",
     "text": [
      "45\n"
     ]
    }
   ],
   "source": [
    "print(fruits[4])"
   ]
  },
  {
   "cell_type": "code",
   "execution_count": 5,
   "id": "d42455ec",
   "metadata": {},
   "outputs": [
    {
     "name": "stdout",
     "output_type": "stream",
     "text": [
      "['strawberry', 'orange', 'pineapple', 'watermelom', 'cherry']\n"
     ]
    }
   ],
   "source": [
    "fruits.append(\"cherry\")\n",
    "print(fruits)"
   ]
  },
  {
   "cell_type": "code",
   "execution_count": 6,
   "id": "de83a3f4",
   "metadata": {},
   "outputs": [
    {
     "name": "stdout",
     "output_type": "stream",
     "text": [
      "['strawberry', 'orange', 'pineapple', 'watermelom', 'cherry', 'mango', 'pawpaw', 'apple', 'coconut']\n"
     ]
    }
   ],
   "source": [
    "fruits.extend([\"mango\",\"pawpaw\",\"apple\",\"coconut\"])## extend adds list to existing list.\n",
    "print(fruits)"
   ]
  },
  {
   "cell_type": "code",
   "execution_count": 17,
   "id": "f7b79197",
   "metadata": {},
   "outputs": [
    {
     "name": "stdout",
     "output_type": "stream",
     "text": [
      "['strawberry', 'orange', 'pineapple', 'watermelom', '45', 'cherry', 'mango', 'apple', 'coconut']\n"
     ]
    }
   ],
   "source": [
    "fruits.remove(\"pawpaw\")\n",
    "print(fruits)"
   ]
  },
  {
   "cell_type": "code",
   "execution_count": 18,
   "id": "df04794d",
   "metadata": {},
   "outputs": [
    {
     "name": "stdout",
     "output_type": "stream",
     "text": [
      "['45', 'apple', 'cherry', 'coconut', 'mango', 'orange', 'pineapple', 'strawberry', 'watermelom']\n"
     ]
    }
   ],
   "source": [
    "fruits.sort()\n",
    "print(fruits)## sort arrange arrange each element ascending alphabetically"
   ]
  },
  {
   "cell_type": "code",
   "execution_count": 19,
   "id": "1e6770eb",
   "metadata": {},
   "outputs": [
    {
     "name": "stdout",
     "output_type": "stream",
     "text": [
      "['45', 'apple', 'cherry', 'coconut', 'mango', 'orange', 'pineapple', 'strawberry', 'watermelom']\n"
     ]
    }
   ],
   "source": [
    "item=fruits.copy() ## inheriting the element been stored in a previous list to another variable\n",
    "print(item)"
   ]
  },
  {
   "cell_type": "code",
   "execution_count": 20,
   "id": "4dc385a3",
   "metadata": {},
   "outputs": [
    {
     "name": "stdout",
     "output_type": "stream",
     "text": [
      "['45', 'apple', 'cherry', 'coconut', 'mango', 'orange', 'pineapple', 'strawberry', 'watermelom']\n"
     ]
    }
   ],
   "source": [
    "print(fruits)"
   ]
  },
  {
   "cell_type": "code",
   "execution_count": 21,
   "id": "45107ccb",
   "metadata": {},
   "outputs": [
    {
     "ename": "NameError",
     "evalue": "name 'item' is not defined",
     "output_type": "error",
     "traceback": [
      "\u001b[1;31m---------------------------------------------------------------------------\u001b[0m",
      "\u001b[1;31mNameError\u001b[0m                                 Traceback (most recent call last)",
      "Cell \u001b[1;32mIn[21], line 2\u001b[0m\n\u001b[0;32m      1\u001b[0m \u001b[38;5;28;01mdel\u001b[39;00m item\n\u001b[1;32m----> 2\u001b[0m \u001b[38;5;28mprint\u001b[39m(item)\n",
      "\u001b[1;31mNameError\u001b[0m: name 'item' is not defined"
     ]
    }
   ],
   "source": [
    "del item\n",
    "print(item) ## this is to delete a particular variable of a list"
   ]
  },
  {
   "cell_type": "code",
   "execution_count": 26,
   "id": "cef28f30",
   "metadata": {},
   "outputs": [
    {
     "name": "stdout",
     "output_type": "stream",
     "text": [
      "['lagos', 'sokoto', 'oyo', 'kogi', 'kano']\n"
     ]
    }
   ],
   "source": [
    "### Exercise\n",
    "## make a list of five state in nigeria using list\n",
    "states=[\"lagos\",\"sokoto\",\"oyo\",\"kogi\",\"kano\"]\n",
    "print(states)"
   ]
  },
  {
   "cell_type": "markdown",
   "id": "4d683ed3",
   "metadata": {},
   "source": [
    "## Dictionary\n",
    "## Dictionary changeable\n",
    "## Dictionary thecurly bracket to identify Dictionary {}\n",
    "## Dictionary use the key to  locate the element"
   ]
  },
  {
   "cell_type": "code",
   "execution_count": 27,
   "id": "0048b709",
   "metadata": {},
   "outputs": [
    {
     "name": "stdout",
     "output_type": "stream",
     "text": [
      "<class 'dict'>\n",
      "{'Name': 'Emmanuuel', 'Age': 40, 'Marrital status': 'married', 'Date': '04-11-2023', 'Gender': 'male'}\n"
     ]
    }
   ],
   "source": [
    "human={\n",
    "    \"Name\":\"Emmanuuel\",\n",
    "    \"Age\":40,\n",
    "    \"Marrital status\":\"married\",\n",
    "    \"Date\":\"04-11-2023\",\n",
    "    \"Gender\":\"male\",\n",
    "}\n",
    "print(type(human))\n",
    "print(human)"
   ]
  },
  {
   "cell_type": "code",
   "execution_count": 30,
   "id": "c5d22836",
   "metadata": {},
   "outputs": [
    {
     "name": "stdout",
     "output_type": "stream",
     "text": [
      "dict_values(['Emmanuuel', 40, 'married', '04-11-2023', 'male'])\n",
      "dict_keys(['Name', 'Age', 'Marrital status', 'Date', 'Gender'])\n"
     ]
    }
   ],
   "source": [
    "print(human.values())\n",
    "print(human.keys())"
   ]
  },
  {
   "cell_type": "code",
   "execution_count": 32,
   "id": "67e33095",
   "metadata": {},
   "outputs": [
    {
     "name": "stdout",
     "output_type": "stream",
     "text": [
      "Emmanuuel\n"
     ]
    }
   ],
   "source": [
    "print(human[\"Name\"])"
   ]
  },
  {
   "cell_type": "code",
   "execution_count": 35,
   "id": "887722dc",
   "metadata": {},
   "outputs": [
    {
     "name": "stdout",
     "output_type": "stream",
     "text": [
      "{'height': 1.97}\n",
      "{'Name': 'Emmanuuel', 'Age': 40, 'Marrital status': 'married', 'Date': '04-11-2023', 'Gender': 'male', 'height': 1.97}\n"
     ]
    }
   ],
   "source": [
    "r=({\"height\":1.97})## method1 adding element into dictionary\n",
    "human.update(r)\n",
    "print(r)\n",
    "print (human)"
   ]
  },
  {
   "cell_type": "code",
   "execution_count": 36,
   "id": "c7f355a4",
   "metadata": {},
   "outputs": [
    {
     "name": "stdout",
     "output_type": "stream",
     "text": [
      "{'Name': 'Emmanuuel', 'Age': 40, 'Marrital status': 'married', 'Date': '04-11-2023', 'Gender': 'male', 'height': 1.97, 'height2': 1.94}\n"
     ]
    }
   ],
   "source": [
    "## method2\n",
    "human[\"height2\"]=1.94\n",
    "print(human)"
   ]
  },
  {
   "cell_type": "markdown",
   "id": "5d8ad8ec",
   "metadata": {},
   "source": [
    "## Assignment "
   ]
  },
  {
   "cell_type": "code",
   "execution_count": 6,
   "id": "34d7c79e",
   "metadata": {},
   "outputs": [
    {
     "name": "stdout",
     "output_type": "stream",
     "text": [
      "{'Name': 'prisca', 'Contact': '09160728450', 'Item ordered': 'wireless microphone ', 'Order number': -4589315211, 'Date': '17-11-2023'}\n",
      "<class 'dict'>\n"
     ]
    }
   ],
   "source": [
    "## How can you use a dictionary to store and access information about a customer's orders,including the order number, date,\n",
    "##and items purchased? 5 records\n",
    "\n",
    "customer={\n",
    "    \"Name\":\"prisca\",\n",
    "    \"Contact\":\"09160728450\",\n",
    "    \"Item ordered\":\"wireless microphone \",\n",
    "    \"Order number\":31-4589312763-2479,\n",
    "    \"Date\": \"17-11-2023\",\n",
    "    \n",
    "}\n",
    "print(customer)\n",
    "print(type(customer))"
   ]
  },
  {
   "cell_type": "code",
   "execution_count": 14,
   "id": "217d5abd",
   "metadata": {},
   "outputs": [
    {
     "name": "stdout",
     "output_type": "stream",
     "text": [
      "dict_values(['prisca', '09160728450', 'wireless microphone ', -4589315211, '17-11-2023'])\n",
      "dict_keys(['Name', 'Contact', 'Item ordered', 'Order number', 'Date'])\n"
     ]
    }
   ],
   "source": [
    "print(customer.values())\n",
    "print(customer.keys())"
   ]
  },
  {
   "cell_type": "code",
   "execution_count": null,
   "id": "52013b7e",
   "metadata": {},
   "outputs": [],
   "source": []
  }
 ],
 "metadata": {
  "kernelspec": {
   "display_name": "Python 3 (ipykernel)",
   "language": "python",
   "name": "python3"
  },
  "language_info": {
   "codemirror_mode": {
    "name": "ipython",
    "version": 3
   },
   "file_extension": ".py",
   "mimetype": "text/x-python",
   "name": "python",
   "nbconvert_exporter": "python",
   "pygments_lexer": "ipython3",
   "version": "3.11.5"
  }
 },
 "nbformat": 4,
 "nbformat_minor": 5
}
