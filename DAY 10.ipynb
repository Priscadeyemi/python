{
 "cells": [
  {
   "cell_type": "code",
   "execution_count": 1,
   "id": "15e7e0e2",
   "metadata": {},
   "outputs": [],
   "source": [
    "## EXERCISE\n",
    "## write a simulation program that has the following attribute\n",
    "## [brand, model, color,year,speed] and the following methods:\n",
    "## [start, change gear, acceration and stop]"
   ]
  },
  {
   "cell_type": "code",
   "execution_count": 14,
   "id": "4ff9e35e",
   "metadata": {},
   "outputs": [],
   "source": [
    "class simulation:\n",
    "    attrl1=\"brand\"\n",
    "    attrl2=\"color\"\n",
    "    attrl3=\"model\"\n",
    "    attrl4=\"year\"\n",
    "    attrl5=\"speed\"\n",
    "    def method_start(self):\n",
    "        brand=input(\"begin simulation of:\")\n",
    "        while brand == self.attrl1:\n",
    "            print(f\"the model of the car{attrl3} determine the movement of the car\")\n",
    "    def method2_changegear(self):\n",
    "                  gear=input(\"change gear:\")\n",
    "                  while gear==self.attrl5:\n",
    "                        print(f\"gear has been changed\")\n",
    "my_car=simulation()  "
   ]
  },
  {
   "cell_type": "code",
   "execution_count": 15,
   "id": "42b5c447",
   "metadata": {},
   "outputs": [
    {
     "name": "stdout",
     "output_type": "stream",
     "text": [
      "begin simulation of:MERCEDES BENZ\n"
     ]
    }
   ],
   "source": [
    "my_car.method_start()"
   ]
  },
  {
   "cell_type": "code",
   "execution_count": 17,
   "id": "fe5e0188",
   "metadata": {},
   "outputs": [
    {
     "name": "stdout",
     "output_type": "stream",
     "text": [
      "change gear:1\n"
     ]
    }
   ],
   "source": [
    "my_car.method2_changegear()"
   ]
  },
  {
   "cell_type": "code",
   "execution_count": 20,
   "id": "18a10c38",
   "metadata": {},
   "outputs": [],
   "source": [
    "class simulation:\n",
    "    def __init__(self, brand, model, color, year, speed):\n",
    "        self.brand=brand\n",
    "        self.model=model\n",
    "        self.color=color\n",
    "        self.year=year\n",
    "        self.speed=speed\n",
    "    def start(self): \n",
    "        print(f\"{self.brand} {self.model} has started\")\n",
    "    def gear(self):\n",
    "        option=input(\"choose gear option with,[1,2,3,4,5,R]:\")\n",
    "        if option == \"1\":\n",
    "            print(f\"gear changed to one{self.speed}\")\n",
    "        elif option == \"2\":\n",
    "            print(f\"gear changed to two{self.speed}\")\n",
    "        elif option == \"3\":\n",
    "            print(f\"gear changed to three{self.speed}\")\n",
    "        elif option == \"4\":\n",
    "            print(f\"gear changed to four{self.speed}\")\n",
    "        elif option == \"5\":\n",
    "            print(f\"gear changed to five{self.speed}\")\n",
    "        elif option == \"R\":\n",
    "            print(\"REVERSE\")\n",
    "    def acceleration(self):\n",
    "        option=input(\"select your acceleration_NITRO option[on,off]\")\n",
    "        if option == \"on\":\n",
    "            print(\"NITRO ENGAGED!!!\")\n",
    "        if option== \"off\":\n",
    "                print(\"NITRO DISENGAGED!!!\")       \n",
    "    def stop(self):\n",
    "        print(\"ENGINE OFF\")\n",
    "prisca_car=simulation(\"FERARI\", \"4MATIC E20\",\"ASH\", 2023,\"200MPH\")"
   ]
  },
  {
   "cell_type": "code",
   "execution_count": 21,
   "id": "8c8c5eae",
   "metadata": {},
   "outputs": [
    {
     "name": "stdout",
     "output_type": "stream",
     "text": [
      "FERARI 4MATIC E20 has started\n"
     ]
    }
   ],
   "source": [
    "prisca_car.start()"
   ]
  },
  {
   "cell_type": "code",
   "execution_count": 22,
   "id": "506533d4",
   "metadata": {},
   "outputs": [
    {
     "name": "stdout",
     "output_type": "stream",
     "text": [
      "choose gear option with,[1,2,3,4,5,R]:4\n",
      "gear changed to four200MPH\n"
     ]
    }
   ],
   "source": [
    "prisca_car.gear()"
   ]
  },
  {
   "cell_type": "code",
   "execution_count": 23,
   "id": "5d95a4ac",
   "metadata": {},
   "outputs": [
    {
     "name": "stdout",
     "output_type": "stream",
     "text": [
      "choose gear option with,[1,2,3,4,5,R]:R\n",
      "REVERSE\n"
     ]
    }
   ],
   "source": [
    "prisca_car.gear()"
   ]
  },
  {
   "cell_type": "code",
   "execution_count": 26,
   "id": "d8b6bdbf",
   "metadata": {},
   "outputs": [
    {
     "name": "stdout",
     "output_type": "stream",
     "text": [
      "select your acceleration_NITRO option[on,off]on\n",
      "NITRO ENGAGED!!!\n"
     ]
    }
   ],
   "source": [
    "prisca_car.acceleration()"
   ]
  },
  {
   "cell_type": "code",
   "execution_count": 27,
   "id": "376a1adc",
   "metadata": {},
   "outputs": [
    {
     "name": "stdout",
     "output_type": "stream",
     "text": [
      "select your acceleration_NITRO option[on,off]off\n",
      "NITRO DISENGAGED!!!\n"
     ]
    }
   ],
   "source": [
    "prisca_car.acceleration ()"
   ]
  },
  {
   "cell_type": "code",
   "execution_count": 25,
   "id": "91780af5",
   "metadata": {},
   "outputs": [
    {
     "name": "stdout",
     "output_type": "stream",
     "text": [
      "ENGINE OFF\n"
     ]
    }
   ],
   "source": [
    "prisca_car.stop()"
   ]
  },
  {
   "cell_type": "code",
   "execution_count": null,
   "id": "27443b35",
   "metadata": {},
   "outputs": [],
   "source": [
    "## INHERITANCE IN CLASS\n",
    "## in object"
   ]
  },
  {
   "cell_type": "code",
   "execution_count": 28,
   "id": "1ea80c1a",
   "metadata": {},
   "outputs": [],
   "source": [
    "class simulation2(simulation):\n",
    "    def openroof(self):\n",
    "        option=input(\"what is the condition[open,close]:\")\n",
    "        if option==\"open\":\n",
    "            print(\"roof opened\")\n",
    "        elif option == \"close\":\n",
    "            print(\"roof closed\")\n",
    "prisca_car=simulation2(\"FERARI\",\"4MATIC E20\",\"ASH\",2023, \"200MPH\")       "
   ]
  },
  {
   "cell_type": "code",
   "execution_count": 29,
   "id": "7a227481",
   "metadata": {},
   "outputs": [
    {
     "name": "stdout",
     "output_type": "stream",
     "text": [
      "FERARI 4MATIC E20 has started\n"
     ]
    }
   ],
   "source": [
    "prisca_car.start()"
   ]
  },
  {
   "cell_type": "code",
   "execution_count": 30,
   "id": "edb1f725",
   "metadata": {},
   "outputs": [
    {
     "name": "stdout",
     "output_type": "stream",
     "text": [
      "select your acceleration_NITRO option[on,off]on\n",
      "NITRO ENGAGED!!!\n"
     ]
    }
   ],
   "source": [
    "prisca_car.acceleration()"
   ]
  },
  {
   "cell_type": "code",
   "execution_count": 31,
   "id": "4e1de520",
   "metadata": {},
   "outputs": [
    {
     "name": "stdout",
     "output_type": "stream",
     "text": [
      "select your acceleration_NITRO option[on,off]off\n",
      "NITRO DISENGAGED!!!\n"
     ]
    }
   ],
   "source": [
    "prisca_car.acceleration()"
   ]
  },
  {
   "cell_type": "code",
   "execution_count": 32,
   "id": "a62bde19",
   "metadata": {},
   "outputs": [
    {
     "name": "stdout",
     "output_type": "stream",
     "text": [
      "choose gear option with,[1,2,3,4,5,R]:5\n",
      "gear changed to five200MPH\n"
     ]
    }
   ],
   "source": [
    "prisca_car.gear()"
   ]
  },
  {
   "cell_type": "code",
   "execution_count": 33,
   "id": "d7c60c62",
   "metadata": {},
   "outputs": [
    {
     "name": "stdout",
     "output_type": "stream",
     "text": [
      "choose gear option with,[1,2,3,4,5,R]:R\n",
      "REVERSE\n"
     ]
    }
   ],
   "source": [
    "prisca_car.gear()"
   ]
  },
  {
   "cell_type": "code",
   "execution_count": 34,
   "id": "20c4ab86",
   "metadata": {},
   "outputs": [
    {
     "name": "stdout",
     "output_type": "stream",
     "text": [
      "ENGINE OFF\n"
     ]
    }
   ],
   "source": [
    "prisca_car.stop()"
   ]
  },
  {
   "cell_type": "code",
   "execution_count": 37,
   "id": "729e214c",
   "metadata": {},
   "outputs": [
    {
     "name": "stdout",
     "output_type": "stream",
     "text": [
      "what is the condition[open,close]:close\n",
      "roof closed\n"
     ]
    }
   ],
   "source": [
    "prisca_car.openroof()"
   ]
  },
  {
   "cell_type": "code",
   "execution_count": 39,
   "id": "7427eb30",
   "metadata": {},
   "outputs": [
    {
     "name": "stdout",
     "output_type": "stream",
     "text": [
      "what is the condition[open,close]:open\n",
      "roof opened\n"
     ]
    }
   ],
   "source": [
    "prisca_car.openroof()"
   ]
  },
  {
   "cell_type": "markdown",
   "id": "908c5b3e",
   "metadata": {},
   "source": [
    "## Assignment(class)"
   ]
  },
  {
   "cell_type": "code",
   "execution_count": null,
   "id": "34b0452b",
   "metadata": {},
   "outputs": [],
   "source": [
    "## The class should have attributes for the account holder's name, account number, and balance.\n",
    "## Implement methods for depositing and withdrawing money from the account.\n",
    "## Ensure that withdrawing money is not allowed if the withdrawal amount exceeds the account balance.\n",
    "## Implement a method to display the account details."
   ]
  },
  {
   "cell_type": "code",
   "execution_count": 1,
   "id": "286da0ac",
   "metadata": {},
   "outputs": [],
   "source": [
    "class BankAccount:\n",
    "    def __init__(self, name, account_number, balance):\n",
    "        self.name = name\n",
    "        self.account_number = account_number\n",
    "        self.balance = balance\n",
    "\n",
    "    def deposit(self):\n",
    "        amount=float(input(\"enter deposit amount:\"))\n",
    "        if amount > 0:\n",
    "            self.balance += amount\n",
    "            print(f\"deposited {amount} into account {self.balance}\")\n",
    "        else:\n",
    "            print(\"Please deposit an amount greater than 0.\")\n",
    "\n",
    "    def withdraw(self):\n",
    "        amount=float(input(\"enter amount withdrawn:\"))\n",
    "        if amount <= self.balance:\n",
    "            self.balance -= amount\n",
    "            print(f\"Withdrew {amount} from account. New balance is {self.balance}\")\n",
    "        else:\n",
    "            print(\"Insufficient funds. Withdrawal not allowed.\")\n",
    "        \n",
    "    def display_account_details(self):\n",
    "            print(f\"account holder's name: {self.name}\")\n",
    "            print(f\"account number:{self.account_number}\")\n",
    "            print(f\"account balance:{self.balance}\")\n",
    "\n",
    "accountdetails=BankAccount(\"john\", \"0383760558\", 200000)"
   ]
  },
  {
   "cell_type": "code",
   "execution_count": 2,
   "id": "3a22168f",
   "metadata": {},
   "outputs": [
    {
     "name": "stdout",
     "output_type": "stream",
     "text": [
      "enter deposit amount:500000\n",
      "deposited 500000.0 into account 700000.0\n"
     ]
    }
   ],
   "source": [
    "accountdetails.deposit()"
   ]
  },
  {
   "cell_type": "code",
   "execution_count": 25,
   "id": "de43e5ab",
   "metadata": {},
   "outputs": [
    {
     "name": "stdout",
     "output_type": "stream",
     "text": [
      "enter amount withdrawn:350000\n",
      "Insufficient funds. Withdrawal not allowed.\n"
     ]
    }
   ],
   "source": [
    "accountdetails.withdraw()"
   ]
  },
  {
   "cell_type": "code",
   "execution_count": 3,
   "id": "37b74638",
   "metadata": {},
   "outputs": [
    {
     "name": "stdout",
     "output_type": "stream",
     "text": [
      "account holder's name: john\n",
      "account number:0383760558\n",
      "account balance:700000.0\n"
     ]
    }
   ],
   "source": [
    "accountdetails.display_account_details()"
   ]
  },
  {
   "cell_type": "code",
   "execution_count": null,
   "id": "a9ce7c76",
   "metadata": {},
   "outputs": [],
   "source": []
  }
 ],
 "metadata": {
  "kernelspec": {
   "display_name": "Python 3 (ipykernel)",
   "language": "python",
   "name": "python3"
  },
  "language_info": {
   "codemirror_mode": {
    "name": "ipython",
    "version": 3
   },
   "file_extension": ".py",
   "mimetype": "text/x-python",
   "name": "python",
   "nbconvert_exporter": "python",
   "pygments_lexer": "ipython3",
   "version": "3.11.5"
  }
 },
 "nbformat": 4,
 "nbformat_minor": 5
}
