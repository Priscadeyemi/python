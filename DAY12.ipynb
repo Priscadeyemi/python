{
 "cells": [
  {
   "cell_type": "markdown",
   "id": "ed30316e",
   "metadata": {},
   "source": [
    "## Date and Time"
   ]
  },
  {
   "cell_type": "code",
   "execution_count": 1,
   "id": "c623b4a1",
   "metadata": {},
   "outputs": [
    {
     "name": "stdout",
     "output_type": "stream",
     "text": [
      "['MAXYEAR', 'MINYEAR', 'UTC', '__all__', '__builtins__', '__cached__', '__doc__', '__file__', '__loader__', '__name__', '__package__', '__spec__', 'date', 'datetime', 'datetime_CAPI', 'sys', 'time', 'timedelta', 'timezone', 'tzinfo']\n"
     ]
    }
   ],
   "source": [
    "import datetime\n",
    "print(dir(datetime))"
   ]
  },
  {
   "cell_type": "code",
   "execution_count": 29,
   "id": "fabe41a0",
   "metadata": {},
   "outputs": [
    {
     "data": {
      "text/plain": [
       "datetime.date(2023, 12, 2)"
      ]
     },
     "execution_count": 29,
     "metadata": {},
     "output_type": "execute_result"
    }
   ],
   "source": [
    "date1=datetime.date(2023,12,2)\n",
    "date1"
   ]
  },
  {
   "cell_type": "code",
   "execution_count": 4,
   "id": "9b37fca2",
   "metadata": {},
   "outputs": [
    {
     "name": "stdout",
     "output_type": "stream",
     "text": [
      "2022\n",
      "15\n",
      "2\n",
      "1\n",
      "2\n"
     ]
    }
   ],
   "source": [
    "print(date1.year)\n",
    "print(date1.day)\n",
    "print(date1.month)\n",
    "print(date1.weekday())\n",
    "print(date1.isoweekday())"
   ]
  },
  {
   "cell_type": "code",
   "execution_count": 5,
   "id": "3267a88a",
   "metadata": {},
   "outputs": [
    {
     "data": {
      "text/plain": [
       "datetime.date(2023, 12, 2)"
      ]
     },
     "execution_count": 5,
     "metadata": {},
     "output_type": "execute_result"
    }
   ],
   "source": [
    "currentdate=datetime.date.today()\n",
    "currentdate"
   ]
  },
  {
   "cell_type": "code",
   "execution_count": 28,
   "id": "b6790e9c",
   "metadata": {},
   "outputs": [
    {
     "data": {
      "text/plain": [
       "'02 of December, 2023'"
      ]
     },
     "execution_count": 28,
     "metadata": {},
     "output_type": "execute_result"
    }
   ],
   "source": [
    "## strftime: this is used for the modification of date and time\n",
    "currentdate.strftime(\"%d of %B, %Y\")"
   ]
  },
  {
   "cell_type": "code",
   "execution_count": 6,
   "id": "d3780326",
   "metadata": {},
   "outputs": [],
   "source": [
    "## Time"
   ]
  },
  {
   "cell_type": "code",
   "execution_count": 19,
   "id": "d0dd2ca4",
   "metadata": {},
   "outputs": [
    {
     "data": {
      "text/plain": [
       "datetime.date(2023, 12, 2)"
      ]
     },
     "execution_count": 19,
     "metadata": {},
     "output_type": "execute_result"
    }
   ],
   "source": [
    "currenttime1=datetime.datetime.now().time()\n",
    "currenttime"
   ]
  },
  {
   "cell_type": "code",
   "execution_count": 20,
   "id": "1af1a879",
   "metadata": {},
   "outputs": [
    {
     "data": {
      "text/plain": [
       "datetime.date(2023, 12, 2)"
      ]
     },
     "execution_count": 20,
     "metadata": {},
     "output_type": "execute_result"
    }
   ],
   "source": [
    "currenttime=datetime.datetime.now().date()\n",
    "currenttime"
   ]
  },
  {
   "cell_type": "code",
   "execution_count": 24,
   "id": "d281661b",
   "metadata": {},
   "outputs": [
    {
     "data": {
      "text/plain": [
       "'14::49::05::PM'"
      ]
     },
     "execution_count": 24,
     "metadata": {},
     "output_type": "execute_result"
    }
   ],
   "source": [
    "currenttime1.strftime(\"%H::%M::%S::%p\")"
   ]
  },
  {
   "cell_type": "code",
   "execution_count": 34,
   "id": "044e506f",
   "metadata": {},
   "outputs": [
    {
     "data": {
      "text/plain": [
       "'14:49:05:PM'"
      ]
     },
     "execution_count": 34,
     "metadata": {},
     "output_type": "execute_result"
    }
   ],
   "source": [
    "currenttime1.strftime(\"%H:%M:%S:%p\")"
   ]
  },
  {
   "cell_type": "code",
   "execution_count": 41,
   "id": "06b388f3",
   "metadata": {},
   "outputs": [
    {
     "name": "stdout",
     "output_type": "stream",
     "text": [
      "enter your date[mm/dd/yy]:7/5/2023\n"
     ]
    },
    {
     "data": {
      "text/plain": [
       "datetime.date(2023, 7, 5)"
      ]
     },
     "execution_count": 41,
     "metadata": {},
     "output_type": "execute_result"
    }
   ],
   "source": [
    "cdate=input(\"enter your date[mm/dd/yy]:\")\n",
    "condate=datetime.datetime.strptime(cdate,\"%m/%d/%Y\").date()\n",
    "condate"
   ]
  },
  {
   "cell_type": "code",
   "execution_count": 36,
   "id": "fabb6c7f",
   "metadata": {},
   "outputs": [
    {
     "data": {
      "text/plain": [
       "datetime.timedelta(0)"
      ]
     },
     "execution_count": 36,
     "metadata": {},
     "output_type": "execute_result"
    }
   ],
   "source": [
    "currentdate - condate ## this subtract date from a specific date given using two variables."
   ]
  },
  {
   "cell_type": "code",
   "execution_count": 37,
   "id": "b1a93c0d",
   "metadata": {},
   "outputs": [
    {
     "data": {
      "text/plain": [
       "datetime.date(2023, 7, 5)"
      ]
     },
     "execution_count": 37,
     "metadata": {},
     "output_type": "execute_result"
    }
   ],
   "source": [
    "currentdate- datetime.timedelta(days=150) ## this his subtract a particular days given from the saved current date"
   ]
  },
  {
   "cell_type": "code",
   "execution_count": 38,
   "id": "9d04acfe",
   "metadata": {},
   "outputs": [
    {
     "data": {
      "text/plain": [
       "datetime.date(2023, 12, 6)"
      ]
     },
     "execution_count": 38,
     "metadata": {},
     "output_type": "execute_result"
    }
   ],
   "source": [
    "currentdate+ datetime.timedelta(days=4) ## this is the addition of days to a particular date"
   ]
  },
  {
   "cell_type": "markdown",
   "id": "34f3ac81",
   "metadata": {},
   "source": [
    "##EXERCISE\n",
    "## write a program to calculate how many weeks and days a user has until his/her appointment from the current date\n"
   ]
  },
  {
   "cell_type": "code",
   "execution_count": 58,
   "id": "1a5be22d",
   "metadata": {},
   "outputs": [
    {
     "name": "stdout",
     "output_type": "stream",
     "text": [
      "enter your date[yy/mm/dd]2024/02/06\n",
      "DEAR USER YOU HAVE 9 weeks and 3 days until your appointment.\n"
     ]
    }
   ],
   "source": [
    "strappdate=input(\"enter your date[yy/mm/dd]\")\n",
    "appdate=datetime.datetime.strptime(strappdate,\"%Y/%m/%d\").date()\n",
    "currentdate=datetime.date.today()\n",
    "diff=appdate - currentdate\n",
    "weeks=diff.days//7\n",
    "nowdays= diff.days % 7\n",
    "print(f\"DEAR USER YOU HAVE {weeks} weeks and {nowdays} days until your appointment.\")"
   ]
  },
  {
   "cell_type": "code",
   "execution_count": null,
   "id": "3c0cf196",
   "metadata": {},
   "outputs": [],
   "source": []
  }
 ],
 "metadata": {
  "kernelspec": {
   "display_name": "Python 3 (ipykernel)",
   "language": "python",
   "name": "python3"
  },
  "language_info": {
   "codemirror_mode": {
    "name": "ipython",
    "version": 3
   },
   "file_extension": ".py",
   "mimetype": "text/x-python",
   "name": "python",
   "nbconvert_exporter": "python",
   "pygments_lexer": "ipython3",
   "version": "3.11.5"
  }
 },
 "nbformat": 4,
 "nbformat_minor": 5
}
