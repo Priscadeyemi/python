{
 "cells": [
  {
   "cell_type": "code",
   "execution_count": 3,
   "id": "711a67f5",
   "metadata": {},
   "outputs": [
    {
     "name": "stdout",
     "output_type": "stream",
     "text": [
      "23\n",
      "prisca\n",
      "45.0\n",
      "True\n",
      "False\n"
     ]
    }
   ],
   "source": [
    "name1=23\n",
    "name2=\"prisca\"\n",
    "name3=45.0\n",
    "name4= True\n",
    "name5=False\n",
    "print(name1)\n",
    "print(name2)\n",
    "print(name3)\n",
    "print(name4)\n",
    "print(name5)"
   ]
  },
  {
   "cell_type": "markdown",
   "id": "57b41107",
   "metadata": {},
   "source": [
    "## COMPARISON OPERATORS\n",
    "## ==equal to\n",
    "## != not equal to\n",
    "## > greater than\n",
    "## < less than\n",
    "## >= greater than or equal to\n",
    "## <= less than or equal to"
   ]
  },
  {
   "cell_type": "code",
   "execution_count": 6,
   "id": "a496778f",
   "metadata": {},
   "outputs": [
    {
     "name": "stdout",
     "output_type": "stream",
     "text": [
      "what is the number?:50\n",
      "what is the second number?:45\n",
      "this is the result False, True,True,False,True,False\n"
     ]
    }
   ],
   "source": [
    "user1=input(\"what is the number?:\")\n",
    "user2=input(\"what is the second number?:\")\n",
    "result1=user1 == user2\n",
    "result2=user1 != user2\n",
    "result3=user1 > user2\n",
    "result4=user1 < user2\n",
    "result5=user1 >= user2\n",
    "result6=user1 <= user2\n",
    "print(f\"this is the result {result1}, {result2},{result3},{result4},{result5},{result6}\")\n"
   ]
  },
  {
   "cell_type": "markdown",
   "id": "cad076cd",
   "metadata": {},
   "source": [
    "## Identity operators"
   ]
  },
  {
   "cell_type": "code",
   "execution_count": 18,
   "id": "b80620a3",
   "metadata": {},
   "outputs": [
    {
     "name": "stdout",
     "output_type": "stream",
     "text": [
      "this is False\n",
      "this is not 20\n"
     ]
    }
   ],
   "source": [
    "A=20\n",
    "B=45\n",
    "print(\"this is\",A is B)\n",
    "print(\"this is not\", A or B)"
   ]
  },
  {
   "cell_type": "code",
   "execution_count": 19,
   "id": "0a7d03b4",
   "metadata": {},
   "outputs": [
    {
     "data": {
      "text/plain": [
       "45"
      ]
     },
     "execution_count": 19,
     "metadata": {},
     "output_type": "execute_result"
    }
   ],
   "source": [
    "A and B"
   ]
  },
  {
   "cell_type": "code",
   "execution_count": 20,
   "id": "e30fa3f2",
   "metadata": {},
   "outputs": [
    {
     "data": {
      "text/plain": [
       "20"
      ]
     },
     "execution_count": 20,
     "metadata": {},
     "output_type": "execute_result"
    }
   ],
   "source": [
    "A or B"
   ]
  },
  {
   "cell_type": "code",
   "execution_count": 21,
   "id": "2bcd2395",
   "metadata": {},
   "outputs": [],
   "source": [
    "A= True\n",
    "B= True\n",
    "C= False"
   ]
  },
  {
   "cell_type": "code",
   "execution_count": 27,
   "id": "0c0e1daa",
   "metadata": {},
   "outputs": [
    {
     "name": "stdout",
     "output_type": "stream",
     "text": [
      "Mr p made a profit of 0.0\n"
     ]
    }
   ],
   "source": [
    "## Mr p bought goods for 500,000 and sold each for 20,000, what is the profit.\n",
    "buying_price=500000\n",
    "selling_price=20000\n",
    "number_bags=buying_price/selling_price\n",
    "profit=(number_bags*selling_price)-buying_price\n",
    "print(f\"Mr p made a profit of {profit}\")"
   ]
  },
  {
   "cell_type": "markdown",
   "id": "e2ba6830",
   "metadata": {},
   "source": [
    "## EXERCISE"
   ]
  },
  {
   "cell_type": "code",
   "execution_count": 28,
   "id": "8be8f8d7",
   "metadata": {},
   "outputs": [],
   "source": [
    "## Create an input function to calculate the quantity of food been served in a restaurant.\n",
    "## Amount of food is #12,000\n",
    "## Calculate the amount of each dish"
   ]
  },
  {
   "cell_type": "code",
   "execution_count": 1,
   "id": "79574137",
   "metadata": {},
   "outputs": [
    {
     "name": "stdout",
     "output_type": "stream",
     "text": [
      "what is the quantity of food served?:2\n",
      "amount of each dish 6000.0\n"
     ]
    }
   ],
   "source": [
    "user=float(input(\"what is the quantity of food served?:\"))\n",
    "food_price=12000\n",
    "amount_dish=food_price/user\n",
    "print(f\"amount of each dish {amount_dish}\")"
   ]
  },
  {
   "cell_type": "code",
   "execution_count": null,
   "id": "6208b76b",
   "metadata": {},
   "outputs": [],
   "source": []
  }
 ],
 "metadata": {
  "kernelspec": {
   "display_name": "Python 3 (ipykernel)",
   "language": "python",
   "name": "python3"
  },
  "language_info": {
   "codemirror_mode": {
    "name": "ipython",
    "version": 3
   },
   "file_extension": ".py",
   "mimetype": "text/x-python",
   "name": "python",
   "nbconvert_exporter": "python",
   "pygments_lexer": "ipython3",
   "version": "3.11.5"
  }
 },
 "nbformat": 4,
 "nbformat_minor": 5
}
