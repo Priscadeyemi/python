{
 "cells": [
  {
   "cell_type": "markdown",
   "id": "d604e3d6",
   "metadata": {},
   "source": [
    "##Dictionary"
   ]
  },
  {
   "cell_type": "code",
   "execution_count": 8,
   "id": "160df6e5",
   "metadata": {},
   "outputs": [
    {
     "name": "stdout",
     "output_type": "stream",
     "text": [
      "david\n",
      "biology\n"
     ]
    }
   ],
   "source": [
    "student={\n",
    "    \"name\":{\"name1\":\"david\",\"name2\":\"joy\",\"name3\":\"musa\"},\n",
    "    \"course\":\"science\",\n",
    "    \"subjects\":{\"subject1\":\"furthermaths\",\"subject2\":\"biology\"}\n",
    "      \n",
    "}\n",
    "print(student[\"name\"][\"name1\"])\n",
    "print(student[\"subjects\"][\"subject2\"])"
   ]
  },
  {
   "cell_type": "code",
   "execution_count": 9,
   "id": "d477a2d2",
   "metadata": {},
   "outputs": [
    {
     "name": "stdout",
     "output_type": "stream",
     "text": [
      "['__doc__', '__loader__', '__name__', '__package__', '__spec__', 'acos', 'acosh', 'asin', 'asinh', 'atan', 'atan2', 'atanh', 'cbrt', 'ceil', 'comb', 'copysign', 'cos', 'cosh', 'degrees', 'dist', 'e', 'erf', 'erfc', 'exp', 'exp2', 'expm1', 'fabs', 'factorial', 'floor', 'fmod', 'frexp', 'fsum', 'gamma', 'gcd', 'hypot', 'inf', 'isclose', 'isfinite', 'isinf', 'isnan', 'isqrt', 'lcm', 'ldexp', 'lgamma', 'log', 'log10', 'log1p', 'log2', 'modf', 'nan', 'nextafter', 'perm', 'pi', 'pow', 'prod', 'radians', 'remainder', 'sin', 'sinh', 'sqrt', 'tan', 'tanh', 'tau', 'trunc', 'ulp']\n"
     ]
    }
   ],
   "source": [
    "## modules\n",
    "import math\n",
    "print(dir(math))"
   ]
  },
  {
   "cell_type": "code",
   "execution_count": 10,
   "id": "8686903c",
   "metadata": {},
   "outputs": [
    {
     "name": "stdout",
     "output_type": "stream",
     "text": [
      "25\n",
      "5.0\n",
      "0.9912028118634736\n"
     ]
    }
   ],
   "source": [
    "num=25\n",
    "print(math.floor(num))\n",
    "print(math.sqrt(num))\n",
    "print(math.cos(num))"
   ]
  },
  {
   "cell_type": "code",
   "execution_count": 11,
   "id": "f3461c46",
   "metadata": {},
   "outputs": [
    {
     "name": "stdout",
     "output_type": "stream",
     "text": [
      "['Counter', 'Decimal', 'Fraction', 'LinearRegression', 'NormalDist', 'StatisticsError', '_SQRT2', '__all__', '__annotations__', '__builtins__', '__cached__', '__doc__', '__file__', '__loader__', '__name__', '__package__', '__spec__', '_coerce', '_convert', '_decimal_sqrt_of_frac', '_exact_ratio', '_fail_neg', '_float_sqrt_of_frac', '_integer_sqrt_of_frac_rto', '_isfinite', '_mean_stdev', '_normal_dist_inv_cdf', '_sqrt_bit_width', '_ss', '_sum', 'bisect_left', 'bisect_right', 'correlation', 'covariance', 'defaultdict', 'erf', 'exp', 'fabs', 'fmean', 'fsum', 'geometric_mean', 'groupby', 'harmonic_mean', 'hypot', 'linear_regression', 'log', 'math', 'mean', 'median', 'median_grouped', 'median_high', 'median_low', 'mode', 'mul', 'multimode', 'namedtuple', 'numbers', 'pstdev', 'pvariance', 'quantiles', 'random', 'reduce', 'repeat', 'sqrt', 'stdev', 'sys', 'tau', 'variance']\n"
     ]
    }
   ],
   "source": [
    "import statistics as stat\n",
    "print(dir(stat))"
   ]
  },
  {
   "cell_type": "code",
   "execution_count": 12,
   "id": "e301fc3f",
   "metadata": {},
   "outputs": [
    {
     "name": "stdout",
     "output_type": "stream",
     "text": [
      "9.857142857142858\n",
      "9\n",
      "1\n",
      "7.5813053279887415\n"
     ]
    }
   ],
   "source": [
    "num3=[1,5,7,9,10,12,25]\n",
    "print(stat.mean(num3))\n",
    "print(stat.median(num3))\n",
    "print(stat.mode(num3))\n",
    "print(stat.stdev(num3))\n"
   ]
  },
  {
   "cell_type": "code",
   "execution_count": 13,
   "id": "2512cc1c",
   "metadata": {},
   "outputs": [
    {
     "name": "stdout",
     "output_type": "stream",
     "text": [
      "['BPF', 'LOG4', 'NV_MAGICCONST', 'RECIP_BPF', 'Random', 'SG_MAGICCONST', 'SystemRandom', 'TWOPI', '_ONE', '_Sequence', '_Set', '__all__', '__builtins__', '__cached__', '__doc__', '__file__', '__loader__', '__name__', '__package__', '__spec__', '_accumulate', '_acos', '_bisect', '_ceil', '_cos', '_e', '_exp', '_floor', '_index', '_inst', '_isfinite', '_log', '_os', '_pi', '_random', '_repeat', '_sha512', '_sin', '_sqrt', '_test', '_test_generator', '_urandom', '_warn', 'betavariate', 'choice', 'choices', 'expovariate', 'gammavariate', 'gauss', 'getrandbits', 'getstate', 'lognormvariate', 'normalvariate', 'paretovariate', 'randbytes', 'randint', 'random', 'randrange', 'sample', 'seed', 'setstate', 'shuffle', 'triangular', 'uniform', 'vonmisesvariate', 'weibullvariate']\n"
     ]
    }
   ],
   "source": [
    "import random\n",
    "print(dir(random))"
   ]
  },
  {
   "cell_type": "code",
   "execution_count": 17,
   "id": "f4fd31ee",
   "metadata": {},
   "outputs": [
    {
     "name": "stdout",
     "output_type": "stream",
     "text": [
      "50\n",
      "None\n"
     ]
    },
    {
     "data": {
      "text/plain": [
       "17"
      ]
     },
     "execution_count": 17,
     "metadata": {},
     "output_type": "execute_result"
    }
   ],
   "source": [
    "num4=[45,50]\n",
    "print(random.choice(num4))\n",
    "print(random.shuffle(num4))\n",
    "random.randint(14,17)"
   ]
  },
  {
   "cell_type": "code",
   "execution_count": 18,
   "id": "6d3e48b1",
   "metadata": {},
   "outputs": [
    {
     "name": "stdout",
     "output_type": "stream",
     "text": [
      "['Formatter', 'Template', '_ChainMap', '__all__', '__builtins__', '__cached__', '__doc__', '__file__', '__loader__', '__name__', '__package__', '__spec__', '_re', '_sentinel_dict', '_string', 'ascii_letters', 'ascii_lowercase', 'ascii_uppercase', 'capwords', 'digits', 'hexdigits', 'octdigits', 'printable', 'punctuation', 'whitespace']\n"
     ]
    }
   ],
   "source": [
    "import string\n",
    "print(dir(string))"
   ]
  },
  {
   "cell_type": "code",
   "execution_count": 19,
   "id": "86ea51ed",
   "metadata": {},
   "outputs": [
    {
     "data": {
      "text/plain": [
       "'abcdefghijklmnopqrstuvwxyzABCDEFGHIJKLMNOPQRSTUVWXYZ'"
      ]
     },
     "execution_count": 19,
     "metadata": {},
     "output_type": "execute_result"
    }
   ],
   "source": [
    "string.ascii_letters"
   ]
  },
  {
   "cell_type": "code",
   "execution_count": 20,
   "id": "1faf4fca",
   "metadata": {},
   "outputs": [
    {
     "data": {
      "text/plain": [
       "'!\"#$%&\\'()*+,-./:;<=>?@[\\\\]^_`{|}~'"
      ]
     },
     "execution_count": 20,
     "metadata": {},
     "output_type": "execute_result"
    }
   ],
   "source": [
    "string.punctuation"
   ]
  },
  {
   "cell_type": "markdown",
   "id": "f0d1cbf1",
   "metadata": {},
   "source": [
    "## conditional statement"
   ]
  },
  {
   "cell_type": "code",
   "execution_count": 21,
   "id": "8f40ae96",
   "metadata": {},
   "outputs": [
    {
     "name": "stdout",
     "output_type": "stream",
     "text": [
      "what is your age:19\n",
      "you are eligible to vote\n"
     ]
    }
   ],
   "source": [
    "user1=float(input(\"what is your age:\"))\n",
    "if user1 > 18:\n",
    "    print(\"you are eligible to vote\")\n",
    "else:\n",
    "    print(\"sorry try next time\")"
   ]
  },
  {
   "cell_type": "code",
   "execution_count": 23,
   "id": "021f3e76",
   "metadata": {},
   "outputs": [
    {
     "name": "stdout",
     "output_type": "stream",
     "text": [
      "what is your age:20\n",
      "you are eligible to vote\n"
     ]
    }
   ],
   "source": [
    "user1=float(input(\"what is your age:\"))\n",
    "if user1 > 18:\n",
    "    print(\"you are eligible to vote\")\n",
    "elif user1>=16:\n",
    "    print(\"you are eligible or the primary vote\")\n",
    "else:\n",
    "    print(\"sorry try next time\")"
   ]
  },
  {
   "cell_type": "code",
   "execution_count": null,
   "id": "313df18f",
   "metadata": {},
   "outputs": [],
   "source": [
    "## write a program that use a region to determine if a customer has a discount"
   ]
  },
  {
   "cell_type": "code",
   "execution_count": 25,
   "id": "656971eb",
   "metadata": {},
   "outputs": [
    {
     "name": "stdout",
     "output_type": "stream",
     "text": [
      "what is your age:25\n",
      "what region do you reside in:west\n",
      "sorry no discount is allocated to you.. try next time.\n"
     ]
    }
   ],
   "source": [
    "age=float(input(\"what is your age:\"))\n",
    "region=input(\"what region do you reside in:\")\n",
    "if age >= 18 and region == \"south south\":\n",
    "    print(\"congratulation you have a discount\")\n",
    "elif age>= 18 and region == \"south east\":\n",
    "    print(\"congratulation you have a discount\")\n",
    "elif age>= 18 and region == \"south west\":\n",
    "    print(\"congratulation you have a discount\")\n",
    "elif age>= 18 and region == \"north west\":\n",
    "    print(\"congratulation you have a discount\")\n",
    "elif age>= 18 and region == \"west west\":\n",
    "    print(\"congratulation you have a discount\")\n",
    "else:\n",
    "    print(\"sorry no discount is allocated to you.. try next time.\")"
   ]
  },
  {
   "cell_type": "code",
   "execution_count": 33,
   "id": "84718f02",
   "metadata": {},
   "outputs": [
    {
     "name": "stdout",
     "output_type": "stream",
     "text": [
      "what kind of food do we have:yam\n",
      "food is available\n"
     ]
    }
   ],
   "source": [
    "## Exercise\n",
    "## write a conditional statement of a specific food served in a restaurant .\n",
    "## note:\n",
    "## and your your condition should not be more than 4.\n",
    "food=input(\"what kind of food do we have:\")\n",
    "if food==\"rice\":\n",
    "    print(\"food is available\")\n",
    "elif food==\"yam\":\n",
    "    print(\"food is available\")\n",
    "elif food==\"potatoe\":\n",
    "    print(\"food is available\")\n",
    "elif food==\"beans\":\n",
    "    print(\"food is available\")\n"
   ]
  },
  {
   "cell_type": "markdown",
   "id": "377a4601",
   "metadata": {},
   "source": [
    "## Assignment on conditioa statement"
   ]
  },
  {
   "cell_type": "code",
   "execution_count": 1,
   "id": "9389ce77",
   "metadata": {},
   "outputs": [
    {
     "name": "stdout",
     "output_type": "stream",
     "text": [
      "what is your age:23\n",
      "what region do you reside in:south west\n",
      "congratulation you are eligible for the job\n"
     ]
    }
   ],
   "source": [
    "## In the given code, a person's eligibility for a job offer is determined based on their age and region. If the person is\n",
    "## eligible, a random state from the provided list is chosen. Identify a potential issue in the code and propose a modification\n",
    "## to address it.\n",
    "\n",
    "age=float(input(\"what is your age:\"))\n",
    "region=input(\"what region do you reside in:\")\n",
    "if age >= 18 and region == \"north west\":\n",
    "    print(\"congratulation you are eligible for the job\")\n",
    "elif age>= 18 and region == \"north east\":\n",
    "    print(\"congratulation you are eligible for the job\")\n",
    "elif age>= 18 and region == \"south west\":\n",
    "    print(\"congratulation you are eligible for the job\")\n",
    "elif age>= 18 and region == \"south south\":\n",
    "    print(\"congratulation you are eligible for the job\")\n",
    "elif age>= 18 and region == \"south east\":\n",
    "    print(\"congratulation you are eligible for the job\")\n",
    "else:\n",
    "    print(\"sorry you are not eligible for the job.. try next time.\")\n"
   ]
  },
  {
   "cell_type": "code",
   "execution_count": null,
   "id": "ac3e52ec",
   "metadata": {},
   "outputs": [],
   "source": []
  }
 ],
 "metadata": {
  "kernelspec": {
   "display_name": "Python 3 (ipykernel)",
   "language": "python",
   "name": "python3"
  },
  "language_info": {
   "codemirror_mode": {
    "name": "ipython",
    "version": 3
   },
   "file_extension": ".py",
   "mimetype": "text/x-python",
   "name": "python",
   "nbconvert_exporter": "python",
   "pygments_lexer": "ipython3",
   "version": "3.11.5"
  }
 },
 "nbformat": 4,
 "nbformat_minor": 5
}
